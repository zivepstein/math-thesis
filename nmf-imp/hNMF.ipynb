{
 "cells": [
  {
   "cell_type": "code",
   "execution_count": 2,
   "metadata": {
    "collapsed": false
   },
   "outputs": [],
   "source": [
    "from sklearn.feature_extraction.text import TfidfVectorizer, CountVectorizer\n",
    "from sklearn.decomposition import NMF\n",
    "from sklearn.datasets import fetch_20newsgroups\n",
    "from sklearn.metrics.pairwise import cosine_similarity as cosine\n",
    "from scipy.sparse.csgraph import connected_components\n",
    "import itertools\n",
    "import json\n",
    "import numpy as np\n",
    "import glob\n",
    "n_topics = 10\n",
    "n_top_words = 20\n",
    "###fake data|\n",
    "# dataset = fetch_20newsgroups(shuffle=True, random_state=1,\n",
    "#                              remove=('headers', 'footers', 'quotes'))\n",
    "# data_samples = dataset.data"
   ]
  },
  {
   "cell_type": "code",
   "execution_count": 2,
   "metadata": {
    "collapsed": false
   },
   "outputs": [],
   "source": [
    "##generate data as array of strings from local .txt files\n",
    "local_data = []\n",
    "philes =  glob.glob(\"/Users/ziv/GDrive/school/math-thesis/nmf-imp/txt_data_bypage/*.txt\")\n",
    "for phile in philes:\n",
    "    with open(phile, 'r') as myfile:\n",
    "        data=myfile.read().replace('\\n', '')\n",
    "        local_data.append(unicode(data, errors='ignore'))"
   ]
  },
  {
   "cell_type": "code",
   "execution_count": 3,
   "metadata": {
    "collapsed": false
   },
   "outputs": [],
   "source": [
    "with open('news24.json') as data_file:    \n",
    "    data = json.load(data_file)"
   ]
  },
  {
   "cell_type": "code",
   "execution_count": 3,
   "metadata": {
    "collapsed": false
   },
   "outputs": [],
   "source": [
    "#tfdif and nmf model building\n",
    "tfidf_vectorizer = TfidfVectorizer(max_df=0.95, min_df=2, #max_features=n_features,\n",
    "                                   stop_words='english')\n",
    "    \n",
    "tfidf = tfidf_vectorizer.fit_transform(local_data)\n",
    "tfidf_feature_names = tfidf_vectorizer.get_feature_names()\n",
    "#nmf = NMF(n_components=n_topics).fit(tfidf)"
   ]
  },
  {
   "cell_type": "code",
   "execution_count": 5,
   "metadata": {
    "collapsed": true
   },
   "outputs": [],
   "source": [
    "H = nmf.components_\n",
    "W = nmf.fit_transform(tfidf)\n",
    "#x = WH"
   ]
  },
  {
   "cell_type": "code",
   "execution_count": 9,
   "metadata": {
    "collapsed": false
   },
   "outputs": [
    {
     "data": {
      "text/plain": [
       "(2000, 39116)"
      ]
     },
     "execution_count": 9,
     "metadata": {},
     "output_type": "execute_result"
    }
   ],
   "source": [
    "t = tfidf[0:2000,:]\n",
    "t.shape"
   ]
  },
  {
   "cell_type": "code",
   "execution_count": null,
   "metadata": {
    "collapsed": false
   },
   "outputs": [],
   "source": [
    "tfidf_dense = t.todense()\n",
    "U, s, V = np.linalg.svd(tfidf_dense, full_matrices=True)"
   ]
  },
  {
   "cell_type": "code",
   "execution_count": 14,
   "metadata": {
    "collapsed": false
   },
   "outputs": [
    {
     "name": "stdout",
     "output_type": "stream",
     "text": [
      "(20, 15380)\n",
      "(1511, 20)\n",
      "(1511, 1511)\n",
      "(1511,)\n",
      "(15380, 15380)\n"
     ]
    }
   ],
   "source": [
    "print H.shape\n",
    "print W.shape\n"
   ]
  },
  {
   "cell_type": "code",
   "execution_count": 5,
   "metadata": {
    "collapsed": false
   },
   "outputs": [
    {
     "name": "stdout",
     "output_type": "stream",
     "text": [
      "(1511, 20)\n",
      "(20,)\n",
      "(20, 15380)\n"
     ]
    }
   ],
   "source": [
    "uk= U[:,0:20]\n",
    "sk= s[0:20,]\n",
    "vk= V[0:20,]\n",
    "\n",
    "S = np.zeros((20, 20), dtype=complex)\n",
    "S[:20, :20] = np.diag(sk)\n",
    "\n"
   ]
  },
  {
   "cell_type": "markdown",
   "metadata": {
    "collapsed": false,
    "scrolled": true
   },
   "source": [
    "## a = np.random.randn(tfidf.shape[0], tfidf.shape[1])\n",
    "U, s, V = np.linalg.svd(tfidf_dense, full_matrices=True)\n"
   ]
  },
  {
   "cell_type": "code",
   "execution_count": 24,
   "metadata": {
    "collapsed": false
   },
   "outputs": [
    {
     "name": "stdout",
     "output_type": "stream",
     "text": [
      "(1511, 20)\n",
      "(20, 20)\n",
      "(20, 15380)\n",
      "biologically buddhism immemorial tg 151 breakdown parcels protein haram elixir socially whelming xinkiang unmarried abhorrent purported ott boa s7m squares\n",
      "afghanistan afghan government soviet people islamic said political kabul refugees pakistan regime country war afghans world soviets leaders iran support\n",
      "afghanistan soviet soviets russians enemy russian puppet world afghan people nation muslim troops freedom war 1987 puppets 85 invasion 1986\n",
      "islamic allah islam muslim muslims commander masood movement man hezb valley god school panjshir work people prophet women state holy\n",
      "soviet valley soviets regime panjshir masood commander people school war die years village man father local year road work children\n",
      "enemy soviets talks rabbani prof valley iran delegation 1986 alliance parties political refugees panjshir resistance based masood council leaders puppets\n",
      "regime islam world muslims enemy allah islamic muslim political najib jami zindajan kalashnikov militiamen human rifles peace jihad qala india\n",
      "refugees said soviet pakistan afghan iran killed million kalashnikov assistance muslims rifles relief president reported militiamen soldiers seized union herat\n",
      "allah prof talks muslims rabbani muslim islam iran king delegation mujahideen russian said russians leaders world man prophet najib parties\n",
      "kabul enemy 85 government hezb hikmatyar food soviet report forces najib destroyed defense fuel women tanks minister mines ak says\n"
     ]
    }
   ],
   "source": [
    "\n",
    "print uk.shape\n",
    "print S.shape\n",
    "print vk.shape\n",
    "W_svd = np.dot(uk,S)\n",
    "H_svd = vk\n",
    "\n",
    "for i in range(0,10):\n",
    "    base =vk[i,:].A1\n",
    "    name =  \" \".join([tfidf_feature_names[j] for j in base.argsort()[:-n_top_words - 1:-1]])\n",
    "    print name"
   ]
  },
  {
   "cell_type": "code",
   "execution_count": 19,
   "metadata": {
    "collapsed": false
   },
   "outputs": [
    {
     "name": "stdout",
     "output_type": "stream",
     "text": [
      "[[11990 11989  7628 ..., 13572 12916  4773]]\n"
     ]
    },
    {
     "ename": "TypeError",
     "evalue": "only integer scalar arrays can be converted to a scalar index",
     "output_type": "error",
     "traceback": [
      "\u001b[0;31m---------------------------------------------------------------------------\u001b[0m",
      "\u001b[0;31mTypeError\u001b[0m                                 Traceback (most recent call last)",
      "\u001b[0;32m<ipython-input-19-0f2692cff627>\u001b[0m in \u001b[0;36m<module>\u001b[0;34m()\u001b[0m\n\u001b[1;32m      2\u001b[0m \u001b[0;32mfor\u001b[0m \u001b[0mj\u001b[0m \u001b[0;32min\u001b[0m \u001b[0mbase\u001b[0m\u001b[0;34m.\u001b[0m\u001b[0margsort\u001b[0m\u001b[0;34m(\u001b[0m\u001b[0;34m)\u001b[0m\u001b[0;34m[\u001b[0m\u001b[0;34m:\u001b[0m\u001b[0;34m-\u001b[0m\u001b[0mn_top_words\u001b[0m \u001b[0;34m-\u001b[0m \u001b[0;36m1\u001b[0m\u001b[0;34m:\u001b[0m\u001b[0;34m-\u001b[0m\u001b[0;36m1\u001b[0m\u001b[0;34m]\u001b[0m\u001b[0;34m:\u001b[0m\u001b[0;34m\u001b[0m\u001b[0m\n\u001b[1;32m      3\u001b[0m     \u001b[0;32mprint\u001b[0m \u001b[0mj\u001b[0m\u001b[0;34m\u001b[0m\u001b[0m\n\u001b[0;32m----> 4\u001b[0;31m     \u001b[0md\u001b[0m\u001b[0;34m.\u001b[0m\u001b[0mappend\u001b[0m\u001b[0;34m(\u001b[0m\u001b[0;34m[\u001b[0m\u001b[0mtfidf_feature_names\u001b[0m\u001b[0;34m[\u001b[0m\u001b[0mj\u001b[0m\u001b[0;34m]\u001b[0m\u001b[0;34m]\u001b[0m\u001b[0;34m)\u001b[0m\u001b[0;34m\u001b[0m\u001b[0m\n\u001b[0m",
      "\u001b[0;31mTypeError\u001b[0m: only integer scalar arrays can be converted to a scalar index"
     ]
    }
   ],
   "source": [
    "d = []\n",
    "for j in base.argsort()[:-n_top_words - 1:-1]:\n",
    "    print j\n",
    "    d.append([tfidf_feature_names[j]])"
   ]
  },
  {
   "cell_type": "code",
   "execution_count": 20,
   "metadata": {
    "collapsed": false
   },
   "outputs": [
    {
     "data": {
      "text/plain": [
       "matrix([[11990, 11989,  7628, ..., 13572, 12916,  4773]])"
      ]
     },
     "execution_count": 20,
     "metadata": {},
     "output_type": "execute_result"
    }
   ],
   "source": [
    "base.argsort()[:-n_top_words - 1:-1]"
   ]
  },
  {
   "cell_type": "code",
   "execution_count": 50,
   "metadata": {
    "collapsed": false
   },
   "outputs": [],
   "source": [
    "S = np.zeros(tfidf_dense.shape, dtype=complex)\n",
    "S[:tfidf_dense.shape[0], :tfidf_dense.shape[0]] = np.diag(s)"
   ]
  },
  {
   "cell_type": "code",
   "execution_count": 53,
   "metadata": {
    "collapsed": false
   },
   "outputs": [
    {
     "data": {
      "text/plain": [
       "True"
      ]
     },
     "execution_count": 53,
     "metadata": {},
     "output_type": "execute_result"
    }
   ],
   "source": [
    "np.allclose(tfidf_dense, np.dot(U, np.dot(S, V)))"
   ]
  },
  {
   "cell_type": "code",
   "execution_count": 6,
   "metadata": {
    "collapsed": false
   },
   "outputs": [
    {
     "ename": "IndexError",
     "evalue": "index 20 is out of bounds for axis 0 with size 20",
     "output_type": "error",
     "traceback": [
      "\u001b[0;31m---------------------------------------------------------------------------\u001b[0m",
      "\u001b[0;31mIndexError\u001b[0m                                Traceback (most recent call last)",
      "\u001b[0;32m<ipython-input-6-7ad10577be32>\u001b[0m in \u001b[0;36m<module>\u001b[0;34m()\u001b[0m\n\u001b[0;32m----> 1\u001b[0;31m \u001b[0mbase\u001b[0m \u001b[0;34m=\u001b[0m\u001b[0mnmf\u001b[0m\u001b[0;34m.\u001b[0m\u001b[0mcomponents_\u001b[0m\u001b[0;34m[\u001b[0m\u001b[0;36m20\u001b[0m\u001b[0;34m]\u001b[0m\u001b[0;34m\u001b[0m\u001b[0m\n\u001b[0m\u001b[1;32m      2\u001b[0m \u001b[0mname\u001b[0m \u001b[0;34m=\u001b[0m  \u001b[0;34m\" \"\u001b[0m\u001b[0;34m.\u001b[0m\u001b[0mjoin\u001b[0m\u001b[0;34m(\u001b[0m\u001b[0;34m[\u001b[0m\u001b[0mtfidf_feature_names\u001b[0m\u001b[0;34m[\u001b[0m\u001b[0mj\u001b[0m\u001b[0;34m]\u001b[0m \u001b[0;32mfor\u001b[0m \u001b[0mj\u001b[0m \u001b[0;32min\u001b[0m \u001b[0mbase\u001b[0m\u001b[0;34m.\u001b[0m\u001b[0margsort\u001b[0m\u001b[0;34m(\u001b[0m\u001b[0;34m)\u001b[0m\u001b[0;34m[\u001b[0m\u001b[0;34m:\u001b[0m\u001b[0;34m-\u001b[0m\u001b[0mn_top_words\u001b[0m \u001b[0;34m-\u001b[0m \u001b[0;36m1\u001b[0m\u001b[0;34m:\u001b[0m\u001b[0;34m-\u001b[0m\u001b[0;36m1\u001b[0m\u001b[0;34m]\u001b[0m\u001b[0;34m]\u001b[0m\u001b[0;34m)\u001b[0m\u001b[0;34m\u001b[0m\u001b[0m\n\u001b[1;32m      3\u001b[0m \u001b[0;32mprint\u001b[0m \u001b[0mname\u001b[0m\u001b[0;34m\u001b[0m\u001b[0m\n",
      "\u001b[0;31mIndexError\u001b[0m: index 20 is out of bounds for axis 0 with size 20"
     ]
    }
   ],
   "source": [
    "base =nmf.components_[20]\n",
    "name =  \" \".join([tfidf_feature_names[j] for j in base.argsort()[:-n_top_words - 1:-1]])\n",
    "print name"
   ]
  },
  {
   "cell_type": "code",
   "execution_count": 3,
   "metadata": {
    "collapsed": false
   },
   "outputs": [],
   "source": [
    "dataset = fetch_20newsgroups(shuffle=True, random_state=1,\n",
    "                             remove=('headers', 'footers', 'quotes'))\n",
    "data_samples = dataset.data\n",
    "tfidf_vectorizer = TfidfVectorizer(max_df=0.95, min_df=2, #max_features=n_features,\n",
    "                                   stop_words='english')\n",
    "    \n",
    "tfidf = tfidf_vectorizer.fit_transform(data_samples)\n",
    "tfidf_feature_names = tfidf_vectorizer.get_feature_names()\n"
   ]
  },
  {
   "cell_type": "code",
   "execution_count": 55,
   "metadata": {
    "collapsed": false
   },
   "outputs": [
    {
     "name": "stdout",
     "output_type": "stream",
     "text": [
      "enemy mujahideen killed soldiers attacked destroyed captured province district wounded area posts herat operation trucks heavy injured tanks casualties attack\n",
      "regime kabul mujahideen najib soviet said military die jami reported moscow khost april union army arms food supplies party uprising\n",
      "soviet afghanistan soviets people resistance puppet war afghan regime political country talks withdrawal invasion geneva afghans union world countries troops\n",
      "islamic government afghanistan independent state establish elected rights self nationals science technology judgements integrity territorial external aligned independence sunnah measures\n",
      "valley commander masood panjshir people school mujahideen village sayyed father work local die commanders road schools mohammad years area group\n",
      "refugees afghan said pakistan afghanistan iran assistance million president relief return refugee government people program camps saudi country food aid\n",
      "hezb government prof rabbani parties hikmatyar council mujahideen leaders kabul islamic iran party minister delegation mujaddidi afghanistan meeting talks islami\n",
      "russians russian mujahideen afghanistan troops army government afghan forces tanks kremlin nation russia monthly 000 karmal military kabul helicopters people\n",
      "00 editor monthly rs subscription annual box bank address mujahideen peshawar pakistan afs anum branch liberation habib 50 cantt magazine\n",
      "muslims muslim islam allah world islamic god man human movement prophet kashmir people jihad india today peace holy nation women\n"
     ]
    }
   ],
   "source": [
    "for i in range(0,10):\n",
    "    base =nmf.components_[i]\n",
    "    name =  \" \".join([tfidf_feature_names[j] for j in base.argsort()[:-n_top_words - 1:-1]])\n",
    "    print name"
   ]
  },
  {
   "cell_type": "code",
   "execution_count": 22,
   "metadata": {
    "collapsed": false
   },
   "outputs": [],
   "source": [
    "import csv\n",
    "with open(\"vocab.csv\", \"w\") as output:\n",
    "    writer = csv.writer(output, lineterminator='\\n')\n",
    "    writer.writerows(tfidf_feature_names)"
   ]
  },
  {
   "cell_type": "code",
   "execution_count": 5,
   "metadata": {
    "collapsed": false
   },
   "outputs": [],
   "source": [
    "\n",
    "weights = (5000/W.sum())*W.sum(axis=0)\n",
    "\n",
    "def build_wgraph(alpha=2):\n",
    "    if alpha != 2:\n",
    "        return [[int(cosine(H[i],H[j])[0][0] > alpha) for i in range(0, len(H))] for j in range(0, len(H))]\n",
    "    else:\n",
    "        return [[cosine(H[i],H[j])[0][0] for i in range(0, len(H))] for j in range(0, len(H))]\n",
    "def thresh_vals(numbin):\n",
    "    binz = []\n",
    "    w = build_wgraph(2)\n",
    "    chain = itertools.chain(*w)\n",
    "    s =sorted(list(chain))\n",
    "    val = n_topics*n_topics/numbin\n",
    "    for i,v in enumerate(s):\n",
    "        if i%val ==0: binz.append(v)\n",
    "    return binz"
   ]
  },
  {
   "cell_type": "code",
   "execution_count": 13,
   "metadata": {
    "collapsed": false
   },
   "outputs": [],
   "source": [
    "def array_distance(A,B):\n",
    "    count = 0\n",
    "    for i,x in enumerate(A):\n",
    "        if x == B[i]:\n",
    "            count+=1\n",
    "    return len(A)-count\n",
    "\n",
    "def greedy_TV_build(to_consume,bins):\n",
    "    if len(to_consume)>1:\n",
    "        a = to_consume[0]\n",
    "        b = to_consume[1]\n",
    "        ccA = connected_components(build_wgraph(a))[1]\n",
    "        ccB = connected_components(build_wgraph(b))[1]\n",
    "        if not np.array_equal(ccA, ccB):\n",
    "            distance = array_distance(ccA,ccB)\n",
    "            if distance > 8:\n",
    "                new_tv = [a + i*(b-a)/bins for i in range(0,bins)]\n",
    "                return new_tv + greedy_TV_build( to_consume[1:], bins)\n",
    "            else:\n",
    "                return [a] + greedy_TV_build(to_consume[1:], bins)\n",
    "        else:\n",
    "            return greedy_TV_build(to_consume[1:], bins)\n",
    "    elif len(to_consume) == 1:\n",
    "        return to_consume\n",
    "    else:\n",
    "        return []\n",
    "  \n",
    "\n",
    "def populateTree(row_level, valid_community):\n",
    "    if row_level > size-2 :\n",
    "        return []\n",
    "    else:\n",
    "        children = []\n",
    "        parent_community = connected_components(build_wgraph(tv[row_level]))[1]\n",
    "        child_community = connected_components(build_wgraph(tv[row_level+1]))[1]\n",
    "        unique_communities = list(set(parent_community)) \n",
    "        for unique_community in unique_communities:\n",
    "            if valid_community == unique_community:\n",
    "                indices = [i for i, x in enumerate(parent_community) if x == unique_community] #[8,9]\n",
    "                seen_communities = []\n",
    "                for i in indices: #8 and 9\n",
    "                    if child_community[i] in seen_communities:\n",
    "                        filter(lambda x: x['community'] == str(child_community[i]), children)[0]['indices'].append(i)\n",
    "                    else:\n",
    "                        community_to_find = child_community[i]\n",
    "                        grow_my_children = populateTree(row_level+1, community_to_find)\n",
    "                        if grow_my_children:\n",
    "                            name = \"\"\n",
    "                            children.append({\"community\":str(child_community[i]),\"indices\":[i],\"name\" : name , \"children\":grow_my_children, \"hasChildren\": True})\n",
    "                        else:\n",
    "                            name = \" \".join([tfidf_feature_names[j] for j in nmf.components_[i].argsort()[:-n_top_words - 1:-1]])\n",
    "                            children.append({\"community\":str(child_community[i]),\"indices\":[i],\"size\":weights[i],\"name\":name, \"hasChildren\": False})\n",
    "                        seen_communities.append(child_community[i])\n",
    "        if len(children) == 1:\n",
    "            try: \n",
    "                return children[0]['children']\n",
    "            except:\n",
    "                return []\n",
    "        else:\n",
    "            return children\n",
    "        \n",
    "def recursiveNaming(tree):\n",
    "        i = tree['indices']\n",
    "        base = nmf.components_[i[0]]\n",
    "        if len(i) > 1:\n",
    "            for ind in i[1:]:\n",
    "                base = np.add(nmf.components_[ind], base)\n",
    "        tree['name'] = \" \".join([tfidf_feature_names[j] for j in base.argsort()[:-n_top_words - 1:-1]])\n",
    "        if tree['hasChildren']:\n",
    "            for child in tree['children']:\n",
    "                    recursiveNaming(child)"
   ]
  },
  {
   "cell_type": "code",
   "execution_count": null,
   "metadata": {
    "collapsed": false
   },
   "outputs": [],
   "source": []
  },
  {
   "cell_type": "code",
   "execution_count": 14,
   "metadata": {
    "collapsed": false
   },
   "outputs": [],
   "source": [
    "tv = greedy_TV_build(thresh_vals(100),2)\n",
    "# visualize topic tree\n",
    "# for i in tv:\n",
    "#     ccB = connected_components(build_wgraph(i))[1]\n",
    "#     print ccB\n",
    "size = len(tv)"
   ]
  },
  {
   "cell_type": "code",
   "execution_count": 15,
   "metadata": {
    "collapsed": false
   },
   "outputs": [],
   "source": [
    "flare = {\"name\" : \"\" , \"children\" : populateTree(0, 0)}\n",
    "for child in flare['children']:\n",
    "    recursiveNaming(child)\n",
    "with open('demo.json', 'w') as outfile:\n",
    "    json.dump(flare, outfile)"
   ]
  },
  {
   "cell_type": "code",
   "execution_count": 14,
   "metadata": {
    "collapsed": false
   },
   "outputs": [
    {
     "data": {
      "text/plain": [
       "{u'children': [{u'children': [{u'children': [{u'children': [{u'children': [{u'community': u'0',\n",
       "           u'hasChildren': False,\n",
       "           u'indices': [0],\n",
       "           u'name': u'reds cincinnati pirates hit season cueto latos pittsburgh game bruce run left inning arizona innings games got said second homer',\n",
       "           u'size': 437.5860156564986},\n",
       "          {u'community': u'5',\n",
       "           u'hasChildren': False,\n",
       "           u'indices': [5],\n",
       "           u'name': u'twins minnesota runs game said innings inning indians run plouffe hit sox left white tigers dozier cleveland hits detroit season',\n",
       "           u'size': 591.8146880190527}],\n",
       "         u'community': u'0',\n",
       "         u'hasChildren': True,\n",
       "         u'indices': [0, 5],\n",
       "         u'name': u'reds twins hit game season innings said inning cincinnati run runs pirates left games homer cueto hits right minnesota second'},\n",
       "        {u'community': u'5',\n",
       "         u'hasChildren': False,\n",
       "         u'indices': [6],\n",
       "         u'name': u'jays blue toronto hit game said gibbons run bautista rockies davis right runs single reyes rays johnson left kawasaki walked',\n",
       "         u'size': 535.088546283174}],\n",
       "       u'community': u'0',\n",
       "       u'hasChildren': True,\n",
       "       u'indices': [0, 5, 6],\n",
       "       u'name': u'hit game said run reds innings season runs twins jays inning left blue toronto right games cincinnati second home homer'},\n",
       "      {u'children': [{u'children': [{u'community': u'1',\n",
       "           u'hasChildren': False,\n",
       "           u'indices': [1],\n",
       "           u'name': u'report hhs exchanges consumers plans cost health costs healthcare premiums insurance individual reform states lower affordable month silver lowest administration',\n",
       "           u'size': 318.9078823348948},\n",
       "          {u'children': [{u'children': [{u'community': u'5',\n",
       "               u'hasChildren': False,\n",
       "               u'indices': [7],\n",
       "               u'name': u'banks loans collateral abs ecb bank lending small european assets loan businesses euro funds backed credit smes firms rbs sme',\n",
       "               u'size': 472.89834727009384},\n",
       "              {u'community': u'6',\n",
       "               u'hasChildren': False,\n",
       "               u'indices': [8],\n",
       "               u'name': u'china economic reforms growth beijing economy said li year urged fiscal ministry speed spending premier local policy sources banks government',\n",
       "               u'size': 334.98739480751135}],\n",
       "             u'community': u'5',\n",
       "             u'hasChildren': True,\n",
       "             u'indices': [7, 8],\n",
       "             u'name': u'banks china economic abs reforms growth loans collateral said beijing bank lending ecb economy small credit government businesses european li'},\n",
       "            {u'community': u'6',\n",
       "             u'hasChildren': False,\n",
       "             u'indices': [9],\n",
       "             u'name': u'percent revenue quarter billion million company share cents year sales shares rose said earnings trading ebay sandisk profit stock fell',\n",
       "             u'size': 736.6342599273734}],\n",
       "           u'community': u'5',\n",
       "           u'hasChildren': True,\n",
       "           u'indices': [7, 8, 9],\n",
       "           u'name': u'percent said banks growth china quarter economic billion year revenue bank abs reforms million loans collateral beijing company economy lending'}],\n",
       "         u'community': u'1',\n",
       "         u'hasChildren': True,\n",
       "         u'indices': [1, 7, 8, 9],\n",
       "         u'name': u'percent said banks growth year china quarter report economic billion revenue bank abs million reforms small loans exchanges hhs collateral'},\n",
       "        {u'community': u'4',\n",
       "         u'hasChildren': False,\n",
       "         u'indices': [4],\n",
       "         u'name': u'watt freddie mae fannie mac senate republican nomination panel committee obama sec fhfa nominee government democrat carolina demarco housing likely',\n",
       "         u'size': 341.71910058995434}],\n",
       "       u'community': u'1',\n",
       "       u'hasChildren': True,\n",
       "       u'indices': [1, 4, 7, 8, 9],\n",
       "       u'name': u'percent said banks watt year growth billion economic china quarter report revenue bank abs loans million reforms small government hhs'}],\n",
       "     u'community': u'0',\n",
       "     u'hasChildren': True,\n",
       "     u'indices': [0, 1, 4, 5, 6, 7, 8, 9],\n",
       "     u'name': u'said percent hit game run second blue year reds innings season runs twins jays inning banks watt left growth toronto'},\n",
       "    {u'community': u'1',\n",
       "     u'hasChildren': False,\n",
       "     u'indices': [2],\n",
       "     u'name': u'truth opinions reason certain nature objects true men god thought mind order knowledge thoughts doubt sciences ought life principles heart',\n",
       "     u'size': 634.4740782921225}],\n",
       "   u'community': u'0',\n",
       "   u'hasChildren': True,\n",
       "   u'indices': [0, 1, 2, 4, 5, 6, 7, 8, 9],\n",
       "   u'name': u'said percent hit game run second blue year reds innings season runs twins jays inning left banks watt right growth'},\n",
       "  {u'community': u'1',\n",
       "   u'hasChildren': False,\n",
       "   u'indices': [3],\n",
       "   u'name': u'invasion allied troops normandy german british germans landing 000 beaches france eisenhower divisions beach allies operation june 1944 day forces',\n",
       "   u'size': 595.8896868193253}],\n",
       " u'name': u''}"
      ]
     },
     "execution_count": 14,
     "metadata": {},
     "output_type": "execute_result"
    }
   ],
   "source": [
    "data"
   ]
  },
  {
   "cell_type": "code",
   "execution_count": 9,
   "metadata": {
    "collapsed": false
   },
   "outputs": [
    {
     "data": {
      "text/plain": [
       "(20, 15380)"
      ]
     },
     "execution_count": 9,
     "metadata": {},
     "output_type": "execute_result"
    }
   ],
   "source": [
    "nmf.components_.shape"
   ]
  },
  {
   "cell_type": "code",
   "execution_count": 10,
   "metadata": {
    "collapsed": false
   },
   "outputs": [
    {
     "ename": "ImportError",
     "evalue": "cannot import name DSNMF",
     "output_type": "error",
     "traceback": [
      "\u001b[0;31m---------------------------------------------------------------------------\u001b[0m",
      "\u001b[0;31mImportError\u001b[0m                               Traceback (most recent call last)",
      "\u001b[0;32m<ipython-input-10-f1a48c263ff6>\u001b[0m in \u001b[0;36m<module>\u001b[0;34m()\u001b[0m\n\u001b[0;32m----> 1\u001b[0;31m \u001b[0;32mfrom\u001b[0m \u001b[0mdsnmf\u001b[0m \u001b[0;32mimport\u001b[0m \u001b[0mDSNMF\u001b[0m\u001b[0;34m,\u001b[0m \u001b[0mappr_seminmf\u001b[0m\u001b[0;34m\u001b[0m\u001b[0m\n\u001b[0m",
      "\u001b[0;32m/Users/ziv/GDrive/school/math-thesis/nmf-imp/dsnmf.py\u001b[0m in \u001b[0;36m<module>\u001b[0;34m()\u001b[0m\n\u001b[1;32m     13\u001b[0m \u001b[0;32mimport\u001b[0m \u001b[0mnumpy\u001b[0m \u001b[0;32mas\u001b[0m \u001b[0mnp\u001b[0m\u001b[0;34m\u001b[0m\u001b[0m\n\u001b[1;32m     14\u001b[0m \u001b[0;32mimport\u001b[0m \u001b[0mglob\u001b[0m\u001b[0;34m\u001b[0m\u001b[0m\n\u001b[0;32m---> 15\u001b[0;31m \u001b[0;32mfrom\u001b[0m \u001b[0mdsnmf\u001b[0m \u001b[0;32mimport\u001b[0m \u001b[0mDSNMF\u001b[0m\u001b[0;34m,\u001b[0m \u001b[0mappr_seminmf\u001b[0m\u001b[0;34m\u001b[0m\u001b[0m\n\u001b[0m\u001b[1;32m     16\u001b[0m \u001b[0mn_topics\u001b[0m \u001b[0;34m=\u001b[0m \u001b[0;36m20\u001b[0m\u001b[0;34m\u001b[0m\u001b[0m\n\u001b[1;32m     17\u001b[0m \u001b[0mn_top_words\u001b[0m \u001b[0;34m=\u001b[0m \u001b[0;36m20\u001b[0m\u001b[0;34m\u001b[0m\u001b[0m\n",
      "\u001b[0;31mImportError\u001b[0m: cannot import name DSNMF"
     ]
    }
   ],
   "source": [
    "from dsnmf import DSNMF, appr_seminmf"
   ]
  },
  {
   "cell_type": "code",
   "execution_count": null,
   "metadata": {
    "collapsed": true
   },
   "outputs": [],
   "source": []
  }
 ],
 "metadata": {
  "kernelspec": {
   "display_name": "Python 2",
   "language": "python",
   "name": "python2"
  },
  "language_info": {
   "codemirror_mode": {
    "name": "ipython",
    "version": 2
   },
   "file_extension": ".py",
   "mimetype": "text/x-python",
   "name": "python",
   "nbconvert_exporter": "python",
   "pygments_lexer": "ipython2",
   "version": "2.7.10"
  }
 },
 "nbformat": 4,
 "nbformat_minor": 0
}
