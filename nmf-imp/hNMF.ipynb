{
 "cells": [
  {
   "cell_type": "code",
   "execution_count": 19,
   "metadata": {
    "collapsed": false
   },
   "outputs": [],
   "source": [
    "from sklearn.feature_extraction.text import TfidfVectorizer, CountVectorizer\n",
    "from sklearn.decomposition import NMF\n",
    "from sklearn.datasets import fetch_20newsgroups\n",
    "from sklearn.metrics.pairwise import cosine_similarity as cosine\n",
    "import itertools\n",
    "import json\n",
    "import numpy as np"
   ]
  },
  {
   "cell_type": "code",
   "execution_count": 3,
   "metadata": {
    "collapsed": false
   },
   "outputs": [],
   "source": [
    "\n",
    "n_topics = 10\n",
    "n_top_words = 20\n",
    "dataset = fetch_20newsgroups(shuffle=True, random_state=1,\n",
    "                             remove=('headers', 'footers', 'quotes'))\n",
    "data_samples = dataset.data\n"
   ]
  },
  {
   "cell_type": "code",
   "execution_count": 4,
   "metadata": {
    "collapsed": false
   },
   "outputs": [
    {
     "name": "stdout",
     "output_type": "stream",
     "text": [
      "Extracting tf-idf features for NMF...\n"
     ]
    }
   ],
   "source": [
    "print(\"Extracting tf-idf features for NMF...\")\n",
    "tfidf_vectorizer = TfidfVectorizer(max_df=0.95, min_df=2, #max_features=n_features,\n",
    "                                   stop_words='english')\n",
    "\n",
    "tfidf = tfidf_vectorizer.fit_transform(data_samples)\n",
    "\n",
    "\n",
    "nmf = NMF(n_components=n_topics).fit(tfidf)"
   ]
  },
  {
   "cell_type": "code",
   "execution_count": 62,
   "metadata": {
    "collapsed": false
   },
   "outputs": [
    {
     "name": "stdout",
     "output_type": "stream",
     "text": [
      "/Users/ziv/GDrive/school/thesis/nmf-imp/data/cinc1.txt\n",
      "/Users/ziv/GDrive/school/thesis/nmf-imp/data/cinc10.txt\n",
      "/Users/ziv/GDrive/school/thesis/nmf-imp/data/cinc2.txt\n",
      "/Users/ziv/GDrive/school/thesis/nmf-imp/data/cinc3.txt\n",
      "/Users/ziv/GDrive/school/thesis/nmf-imp/data/cinc4.txt\n",
      "/Users/ziv/GDrive/school/thesis/nmf-imp/data/cinc5.txt\n",
      "/Users/ziv/GDrive/school/thesis/nmf-imp/data/cinc6.txt\n",
      "/Users/ziv/GDrive/school/thesis/nmf-imp/data/cinc7.txt\n",
      "/Users/ziv/GDrive/school/thesis/nmf-imp/data/cinc8.txt\n",
      "/Users/ziv/GDrive/school/thesis/nmf-imp/data/cinc9.txt\n",
      "/Users/ziv/GDrive/school/thesis/nmf-imp/data/dotm1.txt\n",
      "/Users/ziv/GDrive/school/thesis/nmf-imp/data/dotm10.txt\n",
      "/Users/ziv/GDrive/school/thesis/nmf-imp/data/dotm11.txt\n",
      "/Users/ziv/GDrive/school/thesis/nmf-imp/data/dotm12.txt\n",
      "/Users/ziv/GDrive/school/thesis/nmf-imp/data/dotm13.txt\n",
      "/Users/ziv/GDrive/school/thesis/nmf-imp/data/dotm14.txt\n",
      "/Users/ziv/GDrive/school/thesis/nmf-imp/data/dotm15.txt\n",
      "/Users/ziv/GDrive/school/thesis/nmf-imp/data/dotm2.txt\n",
      "/Users/ziv/GDrive/school/thesis/nmf-imp/data/dotm3.txt\n",
      "/Users/ziv/GDrive/school/thesis/nmf-imp/data/dotm4.txt\n",
      "/Users/ziv/GDrive/school/thesis/nmf-imp/data/dotm5.txt\n",
      "/Users/ziv/GDrive/school/thesis/nmf-imp/data/dotm6.txt\n",
      "/Users/ziv/GDrive/school/thesis/nmf-imp/data/dotm7.txt\n",
      "/Users/ziv/GDrive/school/thesis/nmf-imp/data/dotm8.txt\n",
      "/Users/ziv/GDrive/school/thesis/nmf-imp/data/dotm9.txt\n",
      "/Users/ziv/GDrive/school/thesis/nmf-imp/data/fs01.txt\n",
      "/Users/ziv/GDrive/school/thesis/nmf-imp/data/fs02.txt\n",
      "/Users/ziv/GDrive/school/thesis/nmf-imp/data/fs03.txt\n",
      "/Users/ziv/GDrive/school/thesis/nmf-imp/data/fs04.txt\n",
      "/Users/ziv/GDrive/school/thesis/nmf-imp/data/fs05.txt\n",
      "/Users/ziv/GDrive/school/thesis/nmf-imp/data/fs06.txt\n",
      "/Users/ziv/GDrive/school/thesis/nmf-imp/data/fs07.txt\n",
      "/Users/ziv/GDrive/school/thesis/nmf-imp/data/fs08.txt\n",
      "/Users/ziv/GDrive/school/thesis/nmf-imp/data/fs09.txt\n",
      "/Users/ziv/GDrive/school/thesis/nmf-imp/data/fs10.txt\n",
      "/Users/ziv/GDrive/school/thesis/nmf-imp/data/im1.txt\n",
      "/Users/ziv/GDrive/school/thesis/nmf-imp/data/im10.txt\n",
      "/Users/ziv/GDrive/school/thesis/nmf-imp/data/im11.txt\n",
      "/Users/ziv/GDrive/school/thesis/nmf-imp/data/im12.txt\n",
      "/Users/ziv/GDrive/school/thesis/nmf-imp/data/im13.txt\n",
      "/Users/ziv/GDrive/school/thesis/nmf-imp/data/im14.txt\n",
      "/Users/ziv/GDrive/school/thesis/nmf-imp/data/im2.txt\n",
      "/Users/ziv/GDrive/school/thesis/nmf-imp/data/im3.txt\n",
      "/Users/ziv/GDrive/school/thesis/nmf-imp/data/im4.txt\n",
      "/Users/ziv/GDrive/school/thesis/nmf-imp/data/im5.txt\n",
      "/Users/ziv/GDrive/school/thesis/nmf-imp/data/im6.txt\n",
      "/Users/ziv/GDrive/school/thesis/nmf-imp/data/im7.txt\n",
      "/Users/ziv/GDrive/school/thesis/nmf-imp/data/im8.txt\n",
      "/Users/ziv/GDrive/school/thesis/nmf-imp/data/im9.txt\n",
      "/Users/ziv/GDrive/school/thesis/nmf-imp/data/minn1.txt\n",
      "/Users/ziv/GDrive/school/thesis/nmf-imp/data/minn10.txt\n",
      "/Users/ziv/GDrive/school/thesis/nmf-imp/data/minn2.txt\n",
      "/Users/ziv/GDrive/school/thesis/nmf-imp/data/minn3.txt\n",
      "/Users/ziv/GDrive/school/thesis/nmf-imp/data/minn4.txt\n",
      "/Users/ziv/GDrive/school/thesis/nmf-imp/data/minn5.txt\n",
      "/Users/ziv/GDrive/school/thesis/nmf-imp/data/minn6.txt\n",
      "/Users/ziv/GDrive/school/thesis/nmf-imp/data/minn7.txt\n",
      "/Users/ziv/GDrive/school/thesis/nmf-imp/data/minn8.txt\n",
      "/Users/ziv/GDrive/school/thesis/nmf-imp/data/minn9.txt\n",
      "/Users/ziv/GDrive/school/thesis/nmf-imp/data/rn1.txt\n",
      "/Users/ziv/GDrive/school/thesis/nmf-imp/data/rn2.txt\n",
      "/Users/ziv/GDrive/school/thesis/nmf-imp/data/rn3.txt\n",
      "/Users/ziv/GDrive/school/thesis/nmf-imp/data/rn4.txt\n",
      "/Users/ziv/GDrive/school/thesis/nmf-imp/data/rn5.txt\n",
      "/Users/ziv/GDrive/school/thesis/nmf-imp/data/rn6.txt\n",
      "/Users/ziv/GDrive/school/thesis/nmf-imp/data/rn7.txt\n",
      "/Users/ziv/GDrive/school/thesis/nmf-imp/data/rn8.txt\n",
      "/Users/ziv/GDrive/school/thesis/nmf-imp/data/rn9.txt\n",
      "/Users/ziv/GDrive/school/thesis/nmf-imp/data/sb01.txt\n",
      "/Users/ziv/GDrive/school/thesis/nmf-imp/data/sb02.txt\n",
      "/Users/ziv/GDrive/school/thesis/nmf-imp/data/sb03.txt\n",
      "/Users/ziv/GDrive/school/thesis/nmf-imp/data/sb04.txt\n",
      "/Users/ziv/GDrive/school/thesis/nmf-imp/data/sb05.txt\n",
      "/Users/ziv/GDrive/school/thesis/nmf-imp/data/sb06.txt\n",
      "/Users/ziv/GDrive/school/thesis/nmf-imp/data/sb07.txt\n",
      "/Users/ziv/GDrive/school/thesis/nmf-imp/data/sb08.txt\n",
      "/Users/ziv/GDrive/school/thesis/nmf-imp/data/sb09.txt\n",
      "/Users/ziv/GDrive/school/thesis/nmf-imp/data/sb10.txt\n",
      "/Users/ziv/GDrive/school/thesis/nmf-imp/data/toronto1.txt\n",
      "/Users/ziv/GDrive/school/thesis/nmf-imp/data/toronto10.txt\n",
      "/Users/ziv/GDrive/school/thesis/nmf-imp/data/toronto2.txt\n",
      "/Users/ziv/GDrive/school/thesis/nmf-imp/data/toronto3.txt\n",
      "/Users/ziv/GDrive/school/thesis/nmf-imp/data/toronto4.txt\n",
      "/Users/ziv/GDrive/school/thesis/nmf-imp/data/toronto5.txt\n",
      "/Users/ziv/GDrive/school/thesis/nmf-imp/data/toronto6.txt\n",
      "/Users/ziv/GDrive/school/thesis/nmf-imp/data/toronto7.txt\n",
      "/Users/ziv/GDrive/school/thesis/nmf-imp/data/toronto8.txt\n",
      "/Users/ziv/GDrive/school/thesis/nmf-imp/data/toronto9.txt\n",
      "/Users/ziv/GDrive/school/thesis/nmf-imp/data/WW2_1.txt\n",
      "/Users/ziv/GDrive/school/thesis/nmf-imp/data/WW2_10.txt\n",
      "/Users/ziv/GDrive/school/thesis/nmf-imp/data/WW2_2.txt\n",
      "/Users/ziv/GDrive/school/thesis/nmf-imp/data/WW2_3.txt\n",
      "/Users/ziv/GDrive/school/thesis/nmf-imp/data/WW2_4.txt\n",
      "/Users/ziv/GDrive/school/thesis/nmf-imp/data/WW2_5.txt\n",
      "/Users/ziv/GDrive/school/thesis/nmf-imp/data/WW2_6.txt\n",
      "/Users/ziv/GDrive/school/thesis/nmf-imp/data/WW2_7.txt\n",
      "/Users/ziv/GDrive/school/thesis/nmf-imp/data/WW2_8.txt\n",
      "/Users/ziv/GDrive/school/thesis/nmf-imp/data/WW2_9.txt\n"
     ]
    }
   ],
   "source": [
    "local_data = []\n",
    "philes =  glob.glob(\"/Users/ziv/GDrive/school/thesis/nmf-imp/data/*.txt\")\n",
    "for phile in philes:\n",
    "    print phile\n",
    "    with open(phile, 'r') as myfile:\n",
    "        data=myfile.read().replace('\\n', '')\n",
    "        local_data.append(data)"
   ]
  },
  {
   "cell_type": "code",
   "execution_count": 5,
   "metadata": {
    "collapsed": false
   },
   "outputs": [
    {
     "name": "stdout",
     "output_type": "stream",
     "text": [
      "\n",
      "Topics in NMF model:\n",
      "Topic #0:\n",
      "game team games year players season play hockey win league teams baseball nhl player good detroit toronto runs best pitching\n",
      "Topic #1:\n",
      "god jesus bible believe faith christ christian christians church does life say heaven truth sin hell lord belief man christianity\n",
      "Topic #2:\n",
      "key chip encryption clipper keys government escrow algorithm use law secure security public nsa bit encrypted des phone privacy enforcement\n",
      "Topic #3:\n",
      "geb dsl n3jxp chastity cadre pitt shameful intellect skepticism surrender gordon banks soon edu lyme blood weight patients medical probably\n",
      "Topic #4:\n",
      "car 00 new sale price shipping offer 10 condition bike 50 sell asking good used 20 old buy 15 miles\n",
      "Topic #5:\n",
      "drive scsi ide disk controller drives hard floppy bus card mac hd motherboard cd isa cable pc boot apple mb\n",
      "Topic #6:\n",
      "thanks does know mail advance hi looking info anybody help appreciated address information email post need like appreciate wondering hello\n",
      "Topic #7:\n",
      "people don just think like right know did time say ve said make good want really going government way things\n",
      "Topic #8:\n",
      "windows file dos window files use problem program card using running screen version drivers driver memory mouse ms run video\n",
      "Topic #9:\n",
      "space edu com nasa information data list available send ftp program email university article mail shuttle address pub gov launch\n",
      "()\n"
     ]
    }
   ],
   "source": [
    "def print_top_words(model, feature_names, n_top_words):\n",
    "    for topic_idx, topic in enumerate(model.components_):\n",
    "        print(\"Topic #%d:\" % topic_idx)\n",
    "        print(\" \".join([feature_names[i]\n",
    "                        for i in topic.argsort()[:-n_top_words - 1:-1]]))\n",
    "    print()\n",
    "print(\"\\nTopics in NMF model:\")\n",
    "tfidf_feature_names = tfidf_vectorizer.get_feature_names()\n",
    "print_top_words(nmf, tfidf_feature_names, n_top_words)"
   ]
  },
  {
   "cell_type": "code",
   "execution_count": null,
   "metadata": {
    "collapsed": false
   },
   "outputs": [],
   "source": []
  },
  {
   "cell_type": "code",
   "execution_count": 6,
   "metadata": {
    "collapsed": false
   },
   "outputs": [],
   "source": [
    "H = nmf.components_\n",
    "def build_wgraph(alpha=2):\n",
    "    if alpha != 2:\n",
    "        return [[int(cosine(H[i],H[j])[0][0] > alpha) for i in range(0, len(H))] for j in range(0, len(H))]\n",
    "    else:\n",
    "        return [[cosine(H[i],H[j])[0][0] for i in range(0, len(H))] for j in range(0, len(H))]\n"
   ]
  },
  {
   "cell_type": "code",
   "execution_count": 7,
   "metadata": {
    "collapsed": false
   },
   "outputs": [],
   "source": [
    "def thresh_vals(numbin):\n",
    "    binz = []\n",
    "    w = build_wgraph(2)\n",
    "    chain = itertools.chain(*w)\n",
    "    s =sorted(list(chain))\n",
    "    val = n_topics*n_topics/numbin\n",
    "    for i,v in enumerate(s):\n",
    "        if i%val ==0: binz.append(v)\n",
    "    return binz"
   ]
  },
  {
   "cell_type": "code",
   "execution_count": 8,
   "metadata": {
    "collapsed": false
   },
   "outputs": [],
   "source": [
    "def compare_graphs(graphA, graphB):\n",
    "    return 47"
   ]
  },
  {
   "cell_type": "code",
   "execution_count": 9,
   "metadata": {
    "collapsed": true
   },
   "outputs": [],
   "source": [
    "seed = build_wgraph(0)"
   ]
  },
  {
   "cell_type": "code",
   "execution_count": 10,
   "metadata": {
    "collapsed": false
   },
   "outputs": [],
   "source": [
    "for t in thresh_vals(10):\n",
    "    graphB = build_wgraph(t)\n",
    "    compare_graphs(seed, graphB)\n",
    "    seed = graphB"
   ]
  },
  {
   "cell_type": "code",
   "execution_count": 11,
   "metadata": {
    "collapsed": true
   },
   "outputs": [],
   "source": [
    "from scipy.sparse.csgraph import connected_components"
   ]
  },
  {
   "cell_type": "code",
   "execution_count": 12,
   "metadata": {
    "collapsed": false
   },
   "outputs": [],
   "source": [
    "\n",
    "size = 10\n",
    "tv = thresh_vals(size)\n",
    "ccA = connected_components(build_wgraph(tv[0]))\n",
    "ccB = connected_components(build_wgraph(tv[1]))\n"
   ]
  },
  {
   "cell_type": "code",
   "execution_count": 111,
   "metadata": {
    "collapsed": false
   },
   "outputs": [],
   "source": [
    "\n",
    "\n",
    "def array_distance(A,B):\n",
    "    count = 0\n",
    "    for i,x in enumerate(A):\n",
    "        if x == B[i]:\n",
    "            count+=1\n",
    "    return len(A)-count\n",
    "\n",
    "def greedy_TV_build(to_consume,bins):\n",
    "    if len(to_consume)>1:\n",
    "        a = to_consume[0]\n",
    "        b = to_consume[1]\n",
    "        ccA = connected_components(build_wgraph(a))[1]\n",
    "        ccB = connected_components(build_wgraph(b))[1]\n",
    "        if not np.array_equal(ccA, ccB):\n",
    "            distance = array_distance(ccA,ccB)\n",
    "            if distance > 8:\n",
    "                new_tv = [a + i*(b-a)/bins for i in range(0,bins)]\n",
    "                return new_tv + greedy_TV_build( to_consume[1:], bins)\n",
    "            else:\n",
    "                return [a] + greedy_TV_build(to_consume[1:], bins)\n",
    "        else:\n",
    "            return greedy_TV_build(to_consume[1:], bins)\n",
    "    elif len(to_consume) == 1:\n",
    "        return to_consume\n",
    "    else:\n",
    "        return []\n",
    "        "
   ]
  },
  {
   "cell_type": "code",
   "execution_count": 108,
   "metadata": {
    "collapsed": false
   },
   "outputs": [
    {
     "data": {
      "text/plain": [
       "[1,\n",
       " 1,\n",
       " 2,\n",
       " 2,\n",
       " 5,\n",
       " 7,\n",
       " 1,\n",
       " 0.20189265946751342,\n",
       " 0.22599850966429458,\n",
       " 3,\n",
       " 1.0000000000000009]"
      ]
     },
     "execution_count": 108,
     "metadata": {},
     "output_type": "execute_result"
    }
   ],
   "source": [
    "greedy_TV_build(thresh_vals(100),2)"
   ]
  },
  {
   "cell_type": "code",
   "execution_count": 97,
   "metadata": {
    "collapsed": false
   },
   "outputs": [
    {
     "data": {
      "text/plain": [
       "[0.010853338553680987,\n",
       " 0.023961721589683398,\n",
       " 0.051877369962509752,\n",
       " 0.06663866067784352,\n",
       " 0.079680291988766916,\n",
       " 0.10619111178753092,\n",
       " 0.13813805951361693,\n",
       " 0.16856385364420523,\n",
       " 0.18771200531222493,\n",
       " 0.99999999999999867]"
      ]
     },
     "execution_count": 97,
     "metadata": {},
     "output_type": "execute_result"
    }
   ],
   "source": [
    "tv"
   ]
  },
  {
   "cell_type": "code",
   "execution_count": 112,
   "metadata": {
    "collapsed": false
   },
   "outputs": [
    {
     "name": "stdout",
     "output_type": "stream",
     "text": [
      "[0 0 0 0 0 0 0 0 0 0]\n",
      "[0 0 0 1 0 0 0 0 0 0]\n",
      "[0 0 0 1 0 0 2 0 0 0]\n",
      "[0 0 0 1 0 2 3 0 0 0]\n",
      "[0 0 0 1 0 2 3 0 4 4]\n",
      "[0 0 0 1 2 3 4 0 5 5]\n",
      "[0 0 1 2 3 4 5 0 6 6]\n",
      "[0 0 1 2 3 4 5 0 6 7]\n",
      "[0 0 1 2 3 4 5 0 6 7]\n",
      "[0 1 2 3 4 5 6 1 7 8]\n",
      "[0 1 2 3 4 5 6 7 8 9]\n"
     ]
    }
   ],
   "source": [
    "tv = greedy_TV_build(thresh_vals(100),2)\n",
    "for i in tv:\n",
    "    ccB = connected_components(build_wgraph(i))[1]\n",
    "    print ccB"
   ]
  },
  {
   "cell_type": "code",
   "execution_count": 77,
   "metadata": {
    "collapsed": false
   },
   "outputs": [
    {
     "name": "stdout",
     "output_type": "stream",
     "text": [
      "0\n"
     ]
    }
   ],
   "source": [
    "print array_distance([0, 0, 0, 0 ,0 ,0 ,0 ,0 ,0 ,0],[0 ,0,0 ,0, 0, 0, 0 ,0 ,0, 0])"
   ]
  },
  {
   "cell_type": "code",
   "execution_count": 183,
   "metadata": {
    "collapsed": false
   },
   "outputs": [],
   "source": [
    "cc1 = connected_components(build_wgraph(tv[0]))[1]\n",
    "cc2 = connected_components(build_wgraph(tv[1]))[1]\n",
    "\n",
    "\n",
    "def populateTree(row_level, valid_community):\n",
    "    if row_level > size-2 :\n",
    "        return []\n",
    "    else:\n",
    "        children = []\n",
    "        parent_community = connected_components(build_wgraph(tv[row_level]))[1]\n",
    "        child_community = connected_components(build_wgraph(tv[row_level+1]))[1]\n",
    "        unique_communities = list(set(parent_community)) \n",
    "        for unique_community in unique_communities:\n",
    "            if valid_community == unique_community:\n",
    "                indices = [i for i, x in enumerate(parent_community) if x == unique_community] #[8,9]\n",
    "                seen_communities = []\n",
    "                for i in indices: #8 and 9\n",
    "                    if child_community[i] in seen_communities:\n",
    "                        filter(lambda x: x['community'] == str(child_community[i]), children)[0]['indices'].append(i)\n",
    "                    else:\n",
    "                        community_to_find = child_community[i]\n",
    "                        grow_my_children = populateTree(row_level+1, community_to_find)\n",
    "                        if grow_my_children:\n",
    "                            name = \"\"\n",
    "                            children.append({\"community\":str(child_community[i]),\"indices\":[i],\"name\" : name , \"children\":grow_my_children, \"hasChildren\": True})\n",
    "                        else:\n",
    "                            name = \" \".join([tfidf_feature_names[j] for j in nmf.components_[i].argsort()[:-n_top_words - 1:-1]])\n",
    "                            children.append({\"community\":str(child_community[i]),\"indices\":[i],\"size\":500,\"name\":name, \"hasChildren\": False})\n",
    "                        seen_communities.append(child_community[i])\n",
    "        if len(children) == 1:\n",
    "            try: \n",
    "                return children[0]['children']\n",
    "            except:\n",
    "                return children\n",
    "        else:\n",
    "            return children\n",
    "    \n",
    "flare = {\"name\" : \"\" , \"children\" : populateTree(0, 0)}\n",
    "for child in flare['children']:\n",
    "    recursiveNaming(child)\n",
    "with open('demo.json', 'w') as outfile:\n",
    "    json.dump(flare, outfile)"
   ]
  },
  {
   "cell_type": "code",
   "execution_count": 131,
   "metadata": {
    "collapsed": false
   },
   "outputs": [
    {
     "data": {
      "text/plain": [
       "u'god drive scsi jesus bible ide hard disk controller drives believe faith christ christian christians floppy bus card does church'"
      ]
     },
     "execution_count": 131,
     "metadata": {},
     "output_type": "execute_result"
    }
   ],
   "source": [
    "\" \".join([tfidf_feature_names[j] for j in (nmf.components_[1]+nmf.components_[5]).argsort()[:-n_top_words - 1:-1]])"
   ]
  },
  {
   "cell_type": "code",
   "execution_count": 181,
   "metadata": {
    "collapsed": false
   },
   "outputs": [],
   "source": [
    "def recursiveNaming(tree):\n",
    "        i = tree['indices']\n",
    "        base = nmf.components_[i[0]]\n",
    "        if len(i) > 1:\n",
    "            for ind in i[1:]:\n",
    "                base = np.add(nmf.components_[ind], base)\n",
    "        tree['name'] = \" \".join([tfidf_feature_names[j] for j in base.argsort()[:-n_top_words - 1:-1]])\n",
    "        if tree['hasChildren']:\n",
    "            for child in tree['children']:\n",
    "                    recursiveNaming(child)\n"
   ]
  },
  {
   "cell_type": "code",
   "execution_count": 180,
   "metadata": {
    "collapsed": false
   },
   "outputs": [
    {
     "name": "stdout",
     "output_type": "stream",
     "text": [
      "('base:', array([  7.14221770e-01,   2.60603559e-01,   5.48973802e-03, ...,\n",
      "         1.36373099e-05,   6.14298005e-03,   2.39430481e-03]))\n",
      "('base:', array([  7.14221770e-01,   2.60603559e-01,   5.48973802e-03, ...,\n",
      "         1.36373099e-05,   6.04919381e-03,   2.39430481e-03]))\n",
      "('base:', array([  7.14221770e-01,   2.60603559e-01,   5.48973802e-03, ...,\n",
      "         1.36373099e-05,   5.23927849e-03,   2.39430481e-03]))\n",
      "('base:', array([  7.14221770e-01,   2.38551188e-01,   2.03644935e-03, ...,\n",
      "         1.05264874e-05,   2.08233061e-03,   1.80104166e-03]))\n",
      "('base:', array([  0.00000000e+00,   9.40665589e-02,   0.00000000e+00, ...,\n",
      "         2.60561072e-06,   6.81639244e-05,   1.18861544e-03]))\n",
      "('base:', array([  0.00000000e+00,   9.40665589e-02,   0.00000000e+00, ...,\n",
      "         2.60561072e-06,   6.81639244e-05,   1.18861544e-03]))\n",
      "('base:', array([  0.00000000e+00,   3.47678944e-02,   0.00000000e+00, ...,\n",
      "         2.60561072e-06,   0.00000000e+00,   6.65479075e-06]))\n",
      "('base:', array([  0.00000000e+00,   5.92986645e-02,   0.00000000e+00, ...,\n",
      "         0.00000000e+00,   6.81639244e-05,   1.18196065e-03]))\n",
      "('base:', array([ 0.,  0.,  0., ...,  0.,  0.,  0.]))\n",
      "('base:', array([ 0.,  0.,  0., ...,  0.,  0.,  0.]))\n",
      "('base:', array([  7.14221770e-01,   1.44484629e-01,   2.03644935e-03, ...,\n",
      "         7.92087669e-06,   2.01416669e-03,   6.12426226e-04]))\n",
      "('base:', array([  7.14221770e-01,   1.44484629e-01,   2.03644935e-03, ...,\n",
      "         7.92087669e-06,   2.01416669e-03,   6.12426226e-04]))\n",
      "('base:', array([  0.00000000e+00,   2.20523704e-02,   3.45328866e-03, ...,\n",
      "         3.11082250e-06,   3.15694787e-03,   5.93263149e-04]))\n",
      "('base:', array([ 0.        ,  0.        ,  0.        , ...,  0.        ,\n",
      "        0.00095064,  0.        ]))\n",
      "('base:', array([ 0.        ,  0.        ,  0.        , ...,  0.        ,\n",
      "        0.00095064,  0.        ]))\n",
      "('base:', array([  0.00000000e+00,   2.20523704e-02,   3.45328866e-03, ...,\n",
      "         3.11082250e-06,   2.20630299e-03,   5.93263149e-04]))\n",
      "('base:', array([  0.00000000e+00,   2.20523704e-02,   3.45328866e-03, ...,\n",
      "         3.11082250e-06,   2.20630299e-03,   5.93263149e-04]))\n",
      "('base:', array([ 0.        ,  0.        ,  0.        , ...,  0.        ,\n",
      "        0.00080992,  0.        ]))\n",
      "('base:', array([ 0.        ,  0.        ,  0.        , ...,  0.        ,\n",
      "        0.00080992,  0.        ]))\n",
      "('base:', array([  0.00000000e+00,   0.00000000e+00,   0.00000000e+00, ...,\n",
      "         0.00000000e+00,   9.37862372e-05,   0.00000000e+00]))\n",
      "('base:', array([  0.00000000e+00,   0.00000000e+00,   0.00000000e+00, ...,\n",
      "         0.00000000e+00,   9.37862372e-05,   0.00000000e+00]))\n",
      "('base:', array([ 0.        ,  0.00389156,  0.        , ...,  0.        ,\n",
      "        0.        ,  0.00030595]))\n",
      "('base:', array([ 0.        ,  0.00389156,  0.        , ...,  0.        ,\n",
      "        0.        ,  0.00030595]))\n"
     ]
    }
   ],
   "source": []
  },
  {
   "cell_type": "code",
   "execution_count": 182,
   "metadata": {
    "collapsed": false
   },
   "outputs": [
    {
     "data": {
      "text/plain": [
       "{'children': [{'children': [{'children': [{'children': [{'children': [{'children': [{'children': [{'community': '0',\n",
       "               'hasChildren': False,\n",
       "               'indices': [0],\n",
       "               'name': u'game team games year players season play hockey win league teams baseball nhl player good detroit toronto runs best pitching',\n",
       "               'size': 500},\n",
       "              {'community': '1',\n",
       "               'hasChildren': False,\n",
       "               'indices': [1, 7],\n",
       "               'name': u'geb dsl chastity n3jxp cadre pitt shameful intellect skepticism surrender gordon banks god soon edu people don jesus just think',\n",
       "               'size': 500}],\n",
       "             'community': '0',\n",
       "             'hasChildren': True,\n",
       "             'indices': [0, 1, 7],\n",
       "             'name': u'geb pitt dsl chastity n3jxp cadre shameful intellect skepticism surrender gordon banks god soon edu game team don people think'},\n",
       "            {'children': [{'community': '2',\n",
       "               'hasChildren': False,\n",
       "               'indices': [2],\n",
       "               'name': u'key chip encryption clipper keys government escrow algorithm use law secure security public nsa bit encrypted des phone privacy enforcement',\n",
       "               'size': 500}],\n",
       "             'community': '1',\n",
       "             'hasChildren': True,\n",
       "             'indices': [2],\n",
       "             'name': u'key chip encryption clipper keys government escrow algorithm use law secure security public nsa bit encrypted des phone privacy enforcement'}],\n",
       "           'community': '0',\n",
       "           'hasChildren': True,\n",
       "           'indices': [0, 1, 2, 7],\n",
       "           'name': u'geb pitt dsl n3jxp chastity cadre shameful intellect skepticism surrender banks gordon god soon edu game key team don people'},\n",
       "          {'children': [{'community': '4',\n",
       "             'hasChildren': False,\n",
       "             'indices': [4],\n",
       "             'name': u'car 00 new sale price shipping offer 10 condition bike 50 sell asking good used 20 old buy 15 miles',\n",
       "             'size': 500}],\n",
       "           'community': '2',\n",
       "           'hasChildren': True,\n",
       "           'indices': [4],\n",
       "           'name': u'car 00 new sale price shipping offer 10 condition bike 50 sell asking good used 20 old buy 15 miles'}],\n",
       "         'community': '0',\n",
       "         'hasChildren': True,\n",
       "         'indices': [0, 1, 2, 4, 7],\n",
       "         'name': u'geb pitt dsl n3jxp chastity cadre shameful intellect skepticism surrender banks gordon god soon edu game key team good don'},\n",
       "        {'children': [{'children': [{'community': '7',\n",
       "             'hasChildren': False,\n",
       "             'indices': [8],\n",
       "             'name': u'windows file dos window files use problem program card using running screen version drivers driver memory mouse ms run video',\n",
       "             'size': 500}],\n",
       "           'community': '6',\n",
       "           'hasChildren': True,\n",
       "           'indices': [8],\n",
       "           'name': u'windows file dos window files use problem program card using running screen version drivers driver memory mouse ms run video'},\n",
       "          {'children': [{'community': '8',\n",
       "             'hasChildren': False,\n",
       "             'indices': [9],\n",
       "             'name': u'space edu com nasa information data list available send ftp program email university article mail shuttle address pub gov launch',\n",
       "             'size': 500}],\n",
       "           'community': '7',\n",
       "           'hasChildren': True,\n",
       "           'indices': [9],\n",
       "           'name': u'space edu com nasa information data list available send ftp program email university article mail shuttle address pub gov launch'}],\n",
       "         'community': '4',\n",
       "         'hasChildren': True,\n",
       "         'indices': [8, 9],\n",
       "         'name': u'windows space file edu dos program window use files com nasa using available ftp version problem card server graphics data'}],\n",
       "       'community': '0',\n",
       "       'hasChildren': True,\n",
       "       'indices': [0, 1, 2, 4, 7, 8, 9],\n",
       "       'name': u'edu geb pitt dsl chastity n3jxp cadre shameful intellect skepticism surrender banks gordon god soon windows game key team good'},\n",
       "      {'children': [{'community': '5',\n",
       "         'hasChildren': False,\n",
       "         'indices': [5],\n",
       "         'name': u'drive scsi ide disk controller drives hard floppy bus card mac hd motherboard cd isa cable pc boot apple mb',\n",
       "         'size': 500}],\n",
       "       'community': '2',\n",
       "       'hasChildren': True,\n",
       "       'indices': [5],\n",
       "       'name': u'drive scsi ide disk controller drives hard floppy bus card mac hd motherboard cd isa cable pc boot apple mb'}],\n",
       "     'community': '0',\n",
       "     'hasChildren': True,\n",
       "     'indices': [0, 1, 2, 4, 5, 7, 8, 9],\n",
       "     'name': u'edu geb pitt dsl n3jxp chastity cadre shameful intellect skepticism surrender banks gordon god soon drive windows game key team'},\n",
       "    {'children': [{'community': '6',\n",
       "       'hasChildren': False,\n",
       "       'indices': [6],\n",
       "       'name': u'thanks does know mail advance hi looking info anybody help appreciated address information email post need like appreciate wondering hello',\n",
       "       'size': 500}],\n",
       "     'community': '2',\n",
       "     'hasChildren': True,\n",
       "     'indices': [6],\n",
       "     'name': u'thanks does know mail advance hi looking info anybody help appreciated address information email post need like appreciate wondering hello'}],\n",
       "   'community': '0',\n",
       "   'hasChildren': True,\n",
       "   'indices': [0, 1, 2, 4, 5, 6, 7, 8, 9],\n",
       "   'name': u'edu geb pitt dsl chastity n3jxp cadre shameful intellect skepticism surrender banks gordon god soon drive does know thanks windows'},\n",
       "  {'children': [{'community': '3',\n",
       "     'hasChildren': False,\n",
       "     'indices': [3],\n",
       "     'name': u'geb dsl n3jxp chastity cadre pitt shameful intellect skepticism surrender gordon banks soon edu lyme blood weight patients medical probably',\n",
       "     'size': 500}],\n",
       "   'community': '1',\n",
       "   'hasChildren': True,\n",
       "   'indices': [3],\n",
       "   'name': u'geb dsl n3jxp chastity cadre pitt shameful intellect skepticism surrender gordon banks soon edu lyme blood weight patients medical probably'}],\n",
       " 'name': ''}"
      ]
     },
     "execution_count": 182,
     "metadata": {},
     "output_type": "execute_result"
    }
   ],
   "source": [
    "flare"
   ]
  },
  {
   "cell_type": "code",
   "execution_count": 176,
   "metadata": {
    "collapsed": false
   },
   "outputs": [
    {
     "data": {
      "text/plain": [
       "array([ 0.        ,  0.01167469,  0.        , ...,  0.        ,\n",
       "        0.        ,  0.00091785])"
      ]
     },
     "execution_count": 176,
     "metadata": {},
     "output_type": "execute_result"
    }
   ],
   "source": [
    "nmf.components_[1] "
   ]
  },
  {
   "cell_type": "code",
   "execution_count": 67,
   "metadata": {
    "collapsed": false
   },
   "outputs": [
    {
     "data": {
      "text/plain": [
       "[1.0]"
      ]
     },
     "execution_count": 67,
     "metadata": {},
     "output_type": "execute_result"
    }
   ],
   "source": [
    "[a + i*(b-a)/bins for i in range(0,1)]"
   ]
  },
  {
   "cell_type": "code",
   "execution_count": null,
   "metadata": {
    "collapsed": true
   },
   "outputs": [],
   "source": []
  },
  {
   "cell_type": "code",
   "execution_count": null,
   "metadata": {
    "collapsed": true
   },
   "outputs": [],
   "source": []
  }
 ],
 "metadata": {
  "kernelspec": {
   "display_name": "Python 2",
   "language": "python",
   "name": "python2"
  },
  "language_info": {
   "codemirror_mode": {
    "name": "ipython",
    "version": 2
   },
   "file_extension": ".py",
   "mimetype": "text/x-python",
   "name": "python",
   "nbconvert_exporter": "python",
   "pygments_lexer": "ipython2",
   "version": "2.7.10"
  }
 },
 "nbformat": 4,
 "nbformat_minor": 0
}
