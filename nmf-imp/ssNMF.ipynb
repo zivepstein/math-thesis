{
 "cells": [
  {
   "cell_type": "code",
   "execution_count": 1,
   "metadata": {
    "collapsed": false
   },
   "outputs": [],
   "source": [
    "from sklearn.feature_extraction.text import TfidfVectorizer, CountVectorizer\n",
    "from sklearn.decomposition import NMF\n",
    "from sklearn.datasets import fetch_20newsgroups\n",
    "from sklearn.metrics.pairwise import cosine_similarity as cosine\n",
    "from scipy.sparse.csgraph import connected_components\n",
    "import itertools\n",
    "import json\n",
    "import numpy as np\n",
    "import glob\n",
    "n_topics = 20\n",
    "n_top_words = 20\n",
    "###fake data\n",
    "# dataset = fetch_20newsgroups(shuffle=True, random_state=1,\n",
    "#                              remove=('headers', 'footers', 'quotes'))\n",
    "# data_samples = dataset.data"
   ]
  },
  {
   "cell_type": "code",
   "execution_count": 2,
   "metadata": {
    "collapsed": false
   },
   "outputs": [],
   "source": [
    "from semi_supervised_nnmf import ssnmf, t"
   ]
  },
  {
   "cell_type": "code",
   "execution_count": 3,
   "metadata": {
    "collapsed": false
   },
   "outputs": [],
   "source": [
    "local_data = []\n",
    "classes = ['afghannationalliberationfront', 'hezbislami', 'jamiatislami']\n",
    "philes =  glob.glob(\"/Users/ziv/GDrive/school/math-thesis/nmf-imp/txt_data_bypage/*.txt\")\n",
    "Y = np.zeros((len(classes),len(philes)))\n",
    "for (i,phile) in enumerate(philes):\n",
    "    c = phile.split('/')[-1].split('_')[0]\n",
    "    cls = classes.index(c)\n",
    "    Y[cls,i]= 1\n",
    "    with open(phile, 'r') as myfile:\n",
    "        data=myfile.read().replace('\\n', '')\n",
    "        local_data.append(unicode(data, errors='ignore'))"
   ]
  },
  {
   "cell_type": "code",
   "execution_count": 4,
   "metadata": {
    "collapsed": false
   },
   "outputs": [],
   "source": [
    "tfidf_vectorizer = TfidfVectorizer(max_df=0.95, min_df=2, #max_features=n_features,\n",
    "                                   stop_words='english')\n",
    "\n",
    "X = tfidf_vectorizer.fit_transform(local_data)\n",
    "tfidf_feature_names = tfidf_vectorizer.get_feature_names()\n",
    "k = len(classes)\n",
    "r = 20\n",
    "lamb = 1\n",
    "L = np.ones((k,X.shape[0]))\n"
   ]
  },
  {
   "cell_type": "code",
   "execution_count": 9,
   "metadata": {
    "collapsed": false,
    "scrolled": true
   },
   "outputs": [
    {
     "name": "stdout",
     "output_type": "stream",
     "text": [
      "(1511, 15380)\n",
      "(3, 1511)\n"
     ]
    }
   ],
   "source": [
    "print X.shape\n",
    "print Y.shape"
   ]
  },
  {
   "cell_type": "code",
   "execution_count": 10,
   "metadata": {
    "collapsed": false
   },
   "outputs": [
    {
     "name": "stdout",
     "output_type": "stream",
     "text": [
      "20\n",
      "40\n",
      "60\n",
      "80\n",
      "100\n"
     ]
    }
   ],
   "source": [
    "(A,S,B) = ssnmf(t(X.toarray()),L,Y,lamb,r,k)"
   ]
  },
  {
   "cell_type": "code",
   "execution_count": null,
   "metadata": {
    "collapsed": true
   },
   "outputs": [],
   "source": [
    "print B.shape"
   ]
  },
  {
   "cell_type": "code",
   "execution_count": 6,
   "metadata": {
    "collapsed": false
   },
   "outputs": [
    {
     "name": "stdout",
     "output_type": "stream",
     "text": [
      "(1511, 15380)\n",
      "(15380, 20)\n",
      "(20, 1511)\n",
      "(1511, 15380)\n",
      "(1511, 20)\n",
      "(20, 15380)\n"
     ]
    }
   ],
   "source": [
    "print X.shape\n",
    "print A.shape\n",
    "print S.shape\n",
    "\n",
    "H = t(A)\n",
    "W = t(S)\n",
    "\n",
    "print X.shape\n",
    "print W.shape\n",
    "print H.shape\n",
    "\n"
   ]
  },
  {
   "cell_type": "code",
   "execution_count": 14,
   "metadata": {
    "collapsed": false
   },
   "outputs": [
    {
     "ename": "IndexError",
     "evalue": "index 3 is out of bounds for axis 0 with size 3",
     "output_type": "error",
     "traceback": [
      "\u001b[0;31m---------------------------------------------------------------------------\u001b[0m",
      "\u001b[0;31mIndexError\u001b[0m                                Traceback (most recent call last)",
      "\u001b[0;32m<ipython-input-14-28f0d5584021>\u001b[0m in \u001b[0;36m<module>\u001b[0;34m()\u001b[0m\n\u001b[0;32m----> 1\u001b[0;31m \u001b[0mB\u001b[0m\u001b[0;34m[\u001b[0m\u001b[0;36m3\u001b[0m\u001b[0;34m]\u001b[0m\u001b[0;34m[\u001b[0m\u001b[0;36m18\u001b[0m\u001b[0;34m]\u001b[0m\u001b[0;34m\u001b[0m\u001b[0m\n\u001b[0m",
      "\u001b[0;31mIndexError\u001b[0m: index 3 is out of bounds for axis 0 with size 3"
     ]
    }
   ],
   "source": [
    "B[3][18]"
   ]
  },
  {
   "cell_type": "code",
   "execution_count": 30,
   "metadata": {
    "collapsed": false
   },
   "outputs": [],
   "source": [
    "current_group = 2\n",
    "H = t(A)\n",
    "W = t(S)\n",
    "\n",
    "#x = WH\n",
    "weights = (5000/W.sum())*W.sum(axis=0)\n",
    "\n",
    "def build_wgraph(alpha=2):\n",
    "    if alpha != 2:\n",
    "        return [[int(cosine(H[i],H[j])[0][0] > alpha) for i in range(0, len(H))] for j in range(0, len(H))]\n",
    "    else:\n",
    "        return [[cosine(H[i],H[j])[0][0] for i in range(0, len(H))] for j in range(0, len(H))]\n",
    "def thresh_vals(numbin):\n",
    "    binz = []\n",
    "    w = build_wgraph(2)\n",
    "    chain = itertools.chain(*w)\n",
    "    s =sorted(list(chain))\n",
    "    val = n_topics*n_topics/numbin\n",
    "    for i,v in enumerate(s):\n",
    "        if i%val ==0: binz.append(v)\n",
    "    return binz"
   ]
  },
  {
   "cell_type": "code",
   "execution_count": 31,
   "metadata": {
    "collapsed": false
   },
   "outputs": [],
   "source": [
    "def array_distance(A,B):\n",
    "    count = 0\n",
    "    for i,x in enumerate(A):\n",
    "        if x == B[i]:\n",
    "            count+=1\n",
    "    return len(A)-count\n",
    "\n",
    "def greedy_TV_build(to_consume,bins):\n",
    "    if len(to_consume)>1:\n",
    "        a = to_consume[0]\n",
    "        b = to_consume[1]\n",
    "        ccA = connected_components(build_wgraph(a))[1]\n",
    "        ccB = connected_components(build_wgraph(b))[1]\n",
    "        if not np.array_equal(ccA, ccB):\n",
    "            distance = array_distance(ccA,ccB)\n",
    "            if distance > 8:\n",
    "                new_tv = [a + i*(b-a)/bins for i in range(0,bins)]\n",
    "                return new_tv + greedy_TV_build( to_consume[1:], bins)\n",
    "            else:\n",
    "                return [a] + greedy_TV_build(to_consume[1:], bins)\n",
    "        else:\n",
    "            return greedy_TV_build(to_consume[1:], bins)\n",
    "    elif len(to_consume) == 1:\n",
    "        return to_consume\n",
    "    else:\n",
    "        return []\n",
    "  \n",
    "\n",
    "def populateTree(row_level, valid_community):\n",
    "    if row_level > size-2 :\n",
    "        return []\n",
    "    else:\n",
    "        children = []\n",
    "        parent_community = connected_components(build_wgraph(tv[row_level]))[1]\n",
    "        child_community = connected_components(build_wgraph(tv[row_level+1]))[1]\n",
    "        unique_communities = list(set(parent_community)) \n",
    "        for unique_community in unique_communities:\n",
    "            if valid_community == unique_community:\n",
    "                indices = [i for i, x in enumerate(parent_community) if x == unique_community] #[8,9]\n",
    "                seen_communities = []\n",
    "                for i in indices: #8 and 9\n",
    "                    if child_community[i] in seen_communities:\n",
    "                        filter(lambda x: x['community'] == str(child_community[i]), children)[0]['indices'].append(i)\n",
    "                    else:\n",
    "                        community_to_find = child_community[i]\n",
    "                        grow_my_children = populateTree(row_level+1, community_to_find)\n",
    "                        if grow_my_children:\n",
    "                            name = \"\"\n",
    "                            color = B[current_group][i]\n",
    "                            print (color,i)\n",
    "                            children.append({\"community\":str(child_community[i]),\"indices\":[i],\"name\" : name,\"color\":color, \"children\":grow_my_children, \"hasChildren\": True})\n",
    "                        else:\n",
    "                            color = B[current_group][i]\n",
    "                            print (color,i)\n",
    "                            name = \" \".join([tfidf_feature_names[j] for j in H[i].argsort()[:-n_top_words - 1:-1]])\n",
    "                            children.append({\"community\":str(child_community[i]),\"indices\":[i],\"size\":weights[i],\"name\":name,\"color\":color, \"hasChildren\": False})\n",
    "                        seen_communities.append(child_community[i])\n",
    "        if len(children) == 1:\n",
    "            try: \n",
    "                return children[0]['children']\n",
    "            except:\n",
    "                return []\n",
    "        else:\n",
    "            return children\n",
    "        \n",
    "def recursiveNaming(tree):\n",
    "        i = tree['indices']\n",
    "        base = H[i[0]]\n",
    "        color = B[current_group][i[0]]\n",
    "        if len(i) > 1:\n",
    "            for ind in i[1:]:\n",
    "                base = np.add(H[ind], base)\n",
    "                color = color + B[current_group][ind]\n",
    "        print color\n",
    "        tree['color'] = color\n",
    "        tree['name'] = \" \".join([tfidf_feature_names[j] for j in base.argsort()[:-n_top_words - 1:-1]])\n",
    "        if tree['hasChildren']:\n",
    "            for child in tree['children']:\n",
    "                    recursiveNaming(child)"
   ]
  },
  {
   "cell_type": "code",
   "execution_count": 32,
   "metadata": {
    "collapsed": false
   },
   "outputs": [],
   "source": [
    "tv = greedy_TV_build(thresh_vals(100),2)\n",
    "# visualize topic tree\n",
    "# for i in tv:\n",
    "#     ccB = connected_components(build_wgraph(i))[1]\n",
    "#     print ccB\n",
    "size = len(tv)"
   ]
  },
  {
   "cell_type": "code",
   "execution_count": 33,
   "metadata": {
    "collapsed": false
   },
   "outputs": [
    {
     "name": "stdout",
     "output_type": "stream",
     "text": [
      "(0.066583420129383633, 0)\n",
      "(0.052634303659924234, 13)\n",
      "(0.066583420129383633, 0)\n",
      "(0.066583420129383633, 0)\n",
      "(0.066583420129383633, 0)\n",
      "(0.066583420129383633, 0)\n",
      "(0.066583420129383633, 0)\n",
      "(0.066583420129383633, 0)\n",
      "(0.066583420129383633, 0)\n",
      "(0.066583420129383633, 0)\n",
      "(0.066583420129383633, 0)\n",
      "(0.0012124357364681315, 1)\n",
      "(0.0012124357364681315, 1)\n",
      "(0.0012124357364681315, 1)\n",
      "(0.0012124357364681315, 1)\n",
      "(0.0012124357364681315, 1)\n",
      "(0.056355357384556465, 18)\n",
      "(0.056355357384556465, 18)\n",
      "(0.056355357384556465, 18)\n",
      "(0.056355357384556465, 18)\n",
      "(0.056355357384556465, 18)\n",
      "(0.0012124357364681315, 1)\n",
      "(0.080674821428987256, 3)\n",
      "(0.080674821428987256, 3)\n",
      "(1.9591703835343812e-32, 12)\n",
      "(1.9591703835343812e-32, 12)\n",
      "(0.080674821428987256, 3)\n",
      "(2.2259750373891836e-139, 6)\n",
      "(2.2259750373891836e-139, 6)\n",
      "(2.2259750373891836e-139, 6)\n",
      "(0.080674821428987256, 3)\n",
      "(0.14621698811829872, 17)\n",
      "(0.14621698811829872, 17)\n",
      "(0.14621698811829872, 17)\n",
      "(0.14621698811829872, 17)\n",
      "(0.080674821428987256, 3)\n",
      "(0.080674821428987256, 3)\n",
      "(0.0012124357364681315, 1)\n",
      "(2.9764480984204894e-147, 10)\n",
      "(2.9764480984204894e-147, 10)\n",
      "(2.9764480984204894e-147, 10)\n",
      "(2.9764480984204894e-147, 10)\n",
      "(2.9764480984204894e-147, 10)\n",
      "(0.13862342378986051, 15)\n",
      "(0.13862342378986051, 15)\n",
      "(0.13862342378986051, 15)\n",
      "(0.13862342378986051, 15)\n",
      "(0.13862342378986051, 15)\n",
      "(2.9764480984204894e-147, 10)\n",
      "(2.9764480984204894e-147, 10)\n",
      "(0.0012124357364681315, 1)\n",
      "(0.10260255168987691, 8)\n",
      "(0.10260255168987691, 8)\n",
      "(0.10260255168987691, 8)\n",
      "(0.10260255168987691, 8)\n",
      "(0.10260255168987691, 8)\n",
      "(0.10260255168987691, 8)\n",
      "(0.10260255168987691, 8)\n",
      "(0.10260255168987691, 8)\n",
      "(0.049432491347335995, 19)\n",
      "(0.049432491347335995, 19)\n",
      "(0.049432491347335995, 19)\n",
      "(0.049432491347335995, 19)\n",
      "(0.049432491347335995, 19)\n",
      "(0.049432491347335995, 19)\n",
      "(0.049432491347335995, 19)\n",
      "(0.049432491347335995, 19)\n",
      "(0.0012124357364681315, 1)\n",
      "(0.14691446887496165, 9)\n",
      "(0.14691446887496165, 9)\n",
      "(0.14691446887496165, 9)\n",
      "(0.14691446887496165, 9)\n",
      "(0.14691446887496165, 9)\n",
      "(0.14691446887496165, 9)\n",
      "(0.14691446887496165, 9)\n",
      "(0.14691446887496165, 9)\n",
      "(0.14691446887496165, 9)\n",
      "(1.9630460700896898e-23, 14)\n",
      "(1.9630460700896898e-23, 14)\n",
      "(1.9630460700896898e-23, 14)\n",
      "(1.9630460700896898e-23, 14)\n",
      "(1.9630460700896898e-23, 14)\n",
      "(1.9630460700896898e-23, 14)\n",
      "(1.9630460700896898e-23, 14)\n",
      "(1.9630460700896898e-23, 14)\n",
      "(1.9630460700896898e-23, 14)\n",
      "(0.0012124357364681315, 1)\n",
      "(0.066583420129383633, 0)\n",
      "(0.066583420129383633, 0)\n",
      "(0.12755766236978197, 5)\n",
      "(0.12755766236978197, 5)\n",
      "(0.12755766236978197, 5)\n",
      "(0.12755766236978197, 5)\n",
      "(0.12755766236978197, 5)\n",
      "(0.12755766236978197, 5)\n",
      "(0.12755766236978197, 5)\n",
      "(0.12755766236978197, 5)\n",
      "(0.12755766236978197, 5)\n",
      "(0.12755766236978197, 5)\n",
      "(0.12755766236978197, 5)\n",
      "(0.12755766236978197, 5)\n",
      "(0.066583420129383633, 0)\n",
      "(2.2344340825477907e-13, 4)\n",
      "(2.2344340825477907e-13, 4)\n",
      "(2.2344340825477907e-13, 4)\n",
      "(2.2344340825477907e-13, 4)\n",
      "(2.2344340825477907e-13, 4)\n",
      "(2.2344340825477907e-13, 4)\n",
      "(2.2344340825477907e-13, 4)\n",
      "(2.2344340825477907e-13, 4)\n",
      "(2.2344340825477907e-13, 4)\n",
      "(2.2344340825477907e-13, 4)\n",
      "(2.2344340825477907e-13, 4)\n",
      "(2.2344340825477907e-13, 4)\n",
      "(2.2344340825477907e-13, 4)\n",
      "(0.12362504645538673, 11)\n",
      "(0.12362504645538673, 11)\n",
      "(0.12362504645538673, 11)\n",
      "(0.12362504645538673, 11)\n",
      "(0.12362504645538673, 11)\n",
      "(0.12362504645538673, 11)\n",
      "(0.12362504645538673, 11)\n",
      "(0.12362504645538673, 11)\n",
      "(0.12362504645538673, 11)\n",
      "(0.12362504645538673, 11)\n",
      "(0.12362504645538673, 11)\n",
      "(0.12362504645538673, 11)\n",
      "(0.12362504645538673, 11)\n",
      "(0.066583420129383633, 0)\n",
      "(0.093687616621358799, 2)\n",
      "(0.093687616621358799, 2)\n",
      "(0.093687616621358799, 2)\n",
      "(0.093687616621358799, 2)\n",
      "(0.093687616621358799, 2)\n",
      "(0.093687616621358799, 2)\n",
      "(0.093687616621358799, 2)\n",
      "(0.093687616621358799, 2)\n",
      "(0.093687616621358799, 2)\n",
      "(0.093687616621358799, 2)\n",
      "(0.093687616621358799, 2)\n",
      "(0.093687616621358799, 2)\n",
      "(0.093687616621358799, 2)\n",
      "(0.093687616621358799, 2)\n",
      "(0.066583420129383633, 0)\n",
      "(0.17039430976424885, 7)\n",
      "(0.17039430976424885, 7)\n",
      "(0.17039430976424885, 7)\n",
      "(0.17039430976424885, 7)\n",
      "(0.17039430976424885, 7)\n",
      "(0.17039430976424885, 7)\n",
      "(0.17039430976424885, 7)\n",
      "(0.17039430976424885, 7)\n",
      "(0.17039430976424885, 7)\n",
      "(0.17039430976424885, 7)\n",
      "(0.17039430976424885, 7)\n",
      "(0.17039430976424885, 7)\n",
      "(0.17039430976424885, 7)\n",
      "(0.17039430976424885, 7)\n",
      "(0.17039430976424885, 7)\n",
      "(0.066583420129383633, 0)\n",
      "(7.2304122362829974e-26, 16)\n",
      "(7.2304122362829974e-26, 16)\n",
      "(7.2304122362829974e-26, 16)\n",
      "(7.2304122362829974e-26, 16)\n",
      "(7.2304122362829974e-26, 16)\n",
      "(7.2304122362829974e-26, 16)\n",
      "(7.2304122362829974e-26, 16)\n",
      "(7.2304122362829974e-26, 16)\n",
      "(7.2304122362829974e-26, 16)\n",
      "(7.2304122362829974e-26, 16)\n",
      "(7.2304122362829974e-26, 16)\n",
      "(7.2304122362829974e-26, 16)\n",
      "(7.2304122362829974e-26, 16)\n",
      "(7.2304122362829974e-26, 16)\n",
      "(7.2304122362829974e-26, 16)\n",
      "(7.2304122362829974e-26, 16)\n",
      "1.35651489737\n",
      "1.18612058761\n",
      "1.09243297099\n",
      "0.968807924529\n",
      "0.84125026216\n",
      "0.119217723789\n",
      "0.0665834201294\n",
      "0.0526343036599\n",
      "0.72203253837\n",
      "0.575118069495\n",
      "0.423083026458\n",
      "0.284459602668\n",
      "0.057567793121\n",
      "0.00121243573647\n",
      "0.0563553573846\n",
      "0.226891809547\n",
      "0.080674821429\n",
      "0.080674821429\n",
      "0.080674821429\n",
      "1.95917038353e-32\n",
      "2.22597503739e-139\n",
      "0.146216988118\n",
      "0.13862342379\n",
      "2.97644809842e-147\n",
      "0.13862342379\n",
      "0.10260255169\n",
      "0.0494324913473\n",
      "0.146914468875\n",
      "1.96304607009e-23\n",
      "0.12755766237\n",
      "2.23443408255e-13\n",
      "0.123625046455\n",
      "0.0936876166214\n",
      "0.170394309764\n",
      "7.23041223628e-26\n"
     ]
    }
   ],
   "source": [
    "flare = {\"color\" : sum(sum(B)), \"name\" : \"\" , \"children\" : populateTree(0, 0)}\n",
    "for child in flare['children']:\n",
    "    recursiveNaming(child)"
   ]
  },
  {
   "cell_type": "code",
   "execution_count": 34,
   "metadata": {
    "collapsed": false
   },
   "outputs": [],
   "source": [
    "with open('ss' + str(current_group)+'demo.json', 'w') as outfile:\n",
    "    json.dump(flare, outfile)"
   ]
  },
  {
   "cell_type": "code",
   "execution_count": 86,
   "metadata": {
    "collapsed": false
   },
   "outputs": [
    {
     "data": {
      "text/plain": [
       "1.754900012045385"
      ]
     },
     "execution_count": 86,
     "metadata": {},
     "output_type": "execute_result"
    }
   ],
   "source": [
    "sum(sum(B))"
   ]
  },
  {
   "cell_type": "code",
   "execution_count": 87,
   "metadata": {
    "collapsed": false
   },
   "outputs": [
    {
     "data": {
      "text/plain": [
       "145.30742392712756"
      ]
     },
     "execution_count": 87,
     "metadata": {},
     "output_type": "execute_result"
    }
   ],
   "source": [
    "255/1.754900012045385"
   ]
  },
  {
   "cell_type": "code",
   "execution_count": 18,
   "metadata": {
    "collapsed": false
   },
   "outputs": [
    {
     "name": "stdout",
     "output_type": "stream",
     "text": [
      "40\n"
     ]
    }
   ],
   "source": [
    "current_group = 0\n",
    "print \"4\" + str(current_group)"
   ]
  },
  {
   "cell_type": "code",
   "execution_count": null,
   "metadata": {
    "collapsed": true
   },
   "outputs": [],
   "source": []
  }
 ],
 "metadata": {
  "kernelspec": {
   "display_name": "Python 2",
   "language": "python",
   "name": "python2"
  },
  "language_info": {
   "codemirror_mode": {
    "name": "ipython",
    "version": 2
   },
   "file_extension": ".py",
   "mimetype": "text/x-python",
   "name": "python",
   "nbconvert_exporter": "python",
   "pygments_lexer": "ipython2",
   "version": "2.7.10"
  }
 },
 "nbformat": 4,
 "nbformat_minor": 0
}
