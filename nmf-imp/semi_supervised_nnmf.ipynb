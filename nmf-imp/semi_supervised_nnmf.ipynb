{
 "cells": [
  {
   "cell_type": "code",
   "execution_count": 76,
   "metadata": {
    "collapsed": false
   },
   "outputs": [
    {
     "name": "stdout",
     "output_type": "stream",
     "text": [
      "Couldn't import dot_parser, loading of dot files will not be possible.\n"
     ]
    }
   ],
   "source": [
    "get_ipython().magic(u'matplotlib inline')\n",
    "import numpy as np\n",
    "import matplotlib.pylab as plt\n",
    "import random\n",
    "import glob\n",
    "from sklearn.feature_extraction.text import TfidfVectorizer, CountVectorizer"
   ]
  },
  {
   "cell_type": "code",
   "execution_count": 65,
   "metadata": {
    "collapsed": false
   },
   "outputs": [],
   "source": [
    "def ssnmf(X,L,Y,lamb,r,k,A0=None,S0=None):\n",
    "    if A0==None: \n",
    "        A = np.random.rand(X.shape[0],r)\n",
    "    else:\n",
    "        A = A0\n",
    "    if S0==None:\n",
    "        S = np.random.rand(r,X.shape[1])\n",
    "    else:\n",
    "        S = S0\n",
    "    B = np.random.rand(k,r)\n",
    "    i = 0  \n",
    "    while i < 100:\n",
    "        A = A * (np.dot(X,t(S))/ np.dot(np.dot(A,S),t(S)))\n",
    "        B = B * (np.dot((L * Y), t(S)))/np.dot((L * np.dot(B,S)), t(S))\n",
    "        S = S * (np.dot(t(A),X) + lamb*np.dot(t(B),L*Y))/(np.dot(t(A),np.dot(A,S)) + lamb*np.dot(t(B),L*np.dot(B,S)))\n",
    "        i +=1\n",
    "        if i%20 == 0:\n",
    "            print i\n",
    "    return A,S,B\n",
    "def t(x):\n",
    "    return np.transpose(x)\n"
   ]
  }
 ],
 "metadata": {
  "kernelspec": {
   "display_name": "Python 2",
   "language": "python",
   "name": "python2"
  },
  "language_info": {
   "codemirror_mode": {
    "name": "ipython",
    "version": 2
   },
   "file_extension": ".py",
   "mimetype": "text/x-python",
   "name": "python",
   "nbconvert_exporter": "python",
   "pygments_lexer": "ipython2",
   "version": "2.7.10"
  }
 },
 "nbformat": 4,
 "nbformat_minor": 0
}
