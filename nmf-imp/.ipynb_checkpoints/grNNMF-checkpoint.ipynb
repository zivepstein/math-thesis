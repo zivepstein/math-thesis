{
 "cells": [
  {
   "cell_type": "code",
   "execution_count": 2,
   "metadata": {
    "collapsed": false
   },
   "outputs": [],
   "source": [
    "from sklearn.feature_extraction.text import TfidfVectorizer, CountVectorizer\n",
    "from sklearn.decomposition import NMF\n",
    "from sklearn.datasets import fetch_20newsgroups\n",
    "from sklearn.metrics.pairwise import cosine_similarity as cosine\n",
    "from scipy.sparse.csgraph import connected_components\n",
    "import itertools\n",
    "import json\n",
    "import numpy as np\n",
    "import glob"
   ]
  },
  {
   "cell_type": "code",
   "execution_count": 3,
   "metadata": {
    "collapsed": false
   },
   "outputs": [],
   "source": [
    "##generate data as array of strings from local .txt files\n",
    "local_data = []\n",
    "philes =  glob.glob(\"/Users/ziv/GDrive/school/math-thesis/nmf-imp/data/*.txt\")\n",
    "for phile in philes:\n",
    "    with open(phile, 'r') as myfile:\n",
    "        data=myfile.read().replace('\\n', '')\n",
    "        local_data.append(unicode(data, errors='ignore'))"
   ]
  },
  {
   "cell_type": "code",
   "execution_count": 4,
   "metadata": {
    "collapsed": false
   },
   "outputs": [],
   "source": [
    "#tfdif and nmf model building\n",
    "tfidf_vectorizer = TfidfVectorizer(max_df=0.95, min_df=2, #max_features=n_features,\n",
    "                                   stop_words='english')\n",
    "    \n",
    "tfidf = tfidf_vectorizer.fit_transform(local_data)\n",
    "tfidf_feature_names = tfidf_vectorizer.get_feature_names()\n"
   ]
  },
  {
   "cell_type": "code",
   "execution_count": 19,
   "metadata": {
    "collapsed": false
   },
   "outputs": [
    {
     "ename": "SyntaxError",
     "evalue": "invalid syntax (<ipython-input-19-0fa054752e56>, line 26)",
     "output_type": "error",
     "traceback": [
      "\u001b[0;36m  File \u001b[0;32m\"<ipython-input-19-0fa054752e56>\"\u001b[0;36m, line \u001b[0;32m26\u001b[0m\n\u001b[0;31m    i +=1\u001b[0m\n\u001b[0m    ^\u001b[0m\n\u001b[0;31mSyntaxError\u001b[0m\u001b[0;31m:\u001b[0m invalid syntax\n"
     ]
    }
   ],
   "source": [
    "def generate_graphs(X,p):\n",
    "    W_raw = np.zeros((X.shape[0],X.shape[0]))\n",
    "    for i in range(0,X.shape[0]):\n",
    "        for j in range(0,X.shape[0]):\n",
    "            W_raw[i,j] = np.dot(X[i,], t(X[j,])).todense()[0,0]\n",
    "    s = W.flatten()\n",
    "    thresh = np.percentile(s,p)\n",
    "    W = (W_raw > thresh).astype(int)\n",
    "    D = np.zeros((X.shape[0],X.shape[0]))\n",
    "    for i in range(0,X.shape[0]):\n",
    "        D[i,i] = sum(W[i,])\n",
    "    return W,D\n",
    "def grnmf(X,k,lam,u0=None,v0=None):\n",
    "    W,D = generate_graphs(X,90)\n",
    "    if u0==None: \n",
    "        u = np.random.rand(X.shape[0],k)\n",
    "    else:\n",
    "        u = u0\n",
    "    if v0==None:\n",
    "        v = np.random.rand(X.shape[1],k)\n",
    "    else:\n",
    "        v = v0\n",
    "    i = 0    \n",
    "    while i < 1000:\n",
    "        u = u * (np.dot(X,v)/ np.dot(np.dot(u,t(v)),v)\n",
    "        i +=1\n",
    "    return u,v\n",
    "def t(x):\n",
    "    return np.transpose(x)"
   ]
  },
  {
   "cell_type": "code",
   "execution_count": 10,
   "metadata": {
    "collapsed": false
   },
   "outputs": [
    {
     "data": {
      "text/plain": [
       "(98, 3762)"
      ]
     },
     "execution_count": 10,
     "metadata": {},
     "output_type": "execute_result"
    }
   ],
   "source": [
    "X = tfidf.todense()\n",
    "X.shape"
   ]
  },
  {
   "cell_type": "code",
   "execution_count": 11,
   "metadata": {
    "collapsed": false
   },
   "outputs": [],
   "source": [
    "k=10\n",
    "u = np.random.rand(X.shape[0],k)\n",
    "v = np.random.rand(X.shape[1],k)"
   ]
  },
  {
   "cell_type": "code",
   "execution_count": 12,
   "metadata": {
    "collapsed": false
   },
   "outputs": [
    {
     "ename": "NameError",
     "evalue": "name 't' is not defined",
     "output_type": "error",
     "traceback": [
      "\u001b[0;31m---------------------------------------------------------------------------\u001b[0m",
      "\u001b[0;31mNameError\u001b[0m                                 Traceback (most recent call last)",
      "\u001b[0;32m<ipython-input-12-c7a29c36188c>\u001b[0m in \u001b[0;36m<module>\u001b[0;34m()\u001b[0m\n\u001b[0;32m----> 1\u001b[0;31m \u001b[0mu\u001b[0m \u001b[0;34m=\u001b[0m \u001b[0mu\u001b[0m \u001b[0;34m*\u001b[0m \u001b[0;34m(\u001b[0m\u001b[0mnp\u001b[0m\u001b[0;34m.\u001b[0m\u001b[0mdot\u001b[0m\u001b[0;34m(\u001b[0m\u001b[0mX\u001b[0m\u001b[0;34m,\u001b[0m\u001b[0mv\u001b[0m\u001b[0;34m)\u001b[0m\u001b[0;34m/\u001b[0m \u001b[0mnp\u001b[0m\u001b[0;34m.\u001b[0m\u001b[0mdot\u001b[0m\u001b[0;34m(\u001b[0m\u001b[0mnp\u001b[0m\u001b[0;34m.\u001b[0m\u001b[0mdot\u001b[0m\u001b[0;34m(\u001b[0m\u001b[0mu\u001b[0m\u001b[0;34m,\u001b[0m\u001b[0mt\u001b[0m\u001b[0;34m(\u001b[0m\u001b[0mv\u001b[0m\u001b[0;34m)\u001b[0m\u001b[0;34m)\u001b[0m\u001b[0;34m,\u001b[0m\u001b[0mv\u001b[0m\u001b[0;34m)\u001b[0m\u001b[0;34m)\u001b[0m\u001b[0;34m\u001b[0m\u001b[0m\n\u001b[0m",
      "\u001b[0;31mNameError\u001b[0m: name 't' is not defined"
     ]
    }
   ],
   "source": [
    "u = u * (np.dot(X,v)/ np.dot(np.dot(u,t(v)),v))"
   ]
  },
  {
   "cell_type": "code",
   "execution_count": 9,
   "metadata": {
    "collapsed": false
   },
   "outputs": [
    {
     "data": {
      "text/plain": [
       "array([[ 0.1953765 ,  0.4374288 ,  0.58306762, ...,  0.21886653,\n",
       "         0.61716405,  0.60412544],\n",
       "       [ 0.55032318,  0.84782074,  0.9597919 , ...,  0.43629383,\n",
       "         0.29590319,  0.75483045],\n",
       "       [ 0.46105891,  0.64994151,  0.63304519, ...,  0.34443031,\n",
       "         0.47406933,  0.44105585],\n",
       "       ..., \n",
       "       [ 0.28208962,  0.03741912,  0.52136307, ...,  0.47252189,\n",
       "         0.68640004,  0.3850733 ],\n",
       "       [ 0.2822885 ,  0.42908274,  0.18014915, ...,  0.94362042,\n",
       "         0.73771248,  0.66085263],\n",
       "       [ 0.47928547,  0.70708869,  0.84086816, ...,  0.10415123,\n",
       "         0.02773797,  0.80221506]])"
      ]
     },
     "execution_count": 9,
     "metadata": {},
     "output_type": "execute_result"
    }
   ],
   "source": [
    "v"
   ]
  },
  {
   "cell_type": "code",
   "execution_count": 76,
   "metadata": {
    "collapsed": false
   },
   "outputs": [
    {
     "name": "stdout",
     "output_type": "stream",
     "text": [
      "X(98, 3762)\n",
      "u(98, 10)\n",
      "v(10, 3762)\n",
      "D(98, 98)\n",
      "W(98, 98)\n"
     ]
    }
   ],
   "source": [
    "print \"X\" + str(X.shape)\n",
    "print \"u\" + str(u.shape)\n",
    "print \"v\" + str(v.shape)\n",
    "print \"D\" + str(D.shape)\n",
    "print \"W\" + str(W.shape)"
   ]
  },
  {
   "cell_type": "code",
   "execution_count": 85,
   "metadata": {
    "collapsed": false
   },
   "outputs": [
    {
     "data": {
      "text/plain": [
       "(3762, 3762)"
      ]
     },
     "execution_count": 85,
     "metadata": {},
     "output_type": "execute_result"
    }
   ],
   "source": [
    "np.dot(t(X),X).shape"
   ]
  },
  {
   "cell_type": "code",
   "execution_count": 87,
   "metadata": {
    "collapsed": false
   },
   "outputs": [
    {
     "data": {
      "text/plain": [
       "(3762, 10)"
      ]
     },
     "execution_count": 87,
     "metadata": {},
     "output_type": "execute_result"
    }
   ],
   "source": [
    "t(np.dot(np.dot(t(u), u), v)).shape"
   ]
  },
  {
   "cell_type": "code",
   "execution_count": 88,
   "metadata": {
    "collapsed": false
   },
   "outputs": [
    {
     "ename": "ValueError",
     "evalue": "shapes (98,98) and (10,3762) not aligned: 98 (dim 1) != 10 (dim 0)",
     "output_type": "error",
     "traceback": [
      "\u001b[0;31m---------------------------------------------------------------------------\u001b[0m",
      "\u001b[0;31mValueError\u001b[0m                                Traceback (most recent call last)",
      "\u001b[0;32m<ipython-input-88-4d0fbd399a34>\u001b[0m in \u001b[0;36m<module>\u001b[0;34m()\u001b[0m\n\u001b[0;32m----> 1\u001b[0;31m \u001b[0mnp\u001b[0m\u001b[0;34m.\u001b[0m\u001b[0mdot\u001b[0m\u001b[0;34m(\u001b[0m\u001b[0mD\u001b[0m\u001b[0;34m,\u001b[0m\u001b[0mv\u001b[0m\u001b[0;34m)\u001b[0m\u001b[0;34m\u001b[0m\u001b[0m\n\u001b[0m",
      "\u001b[0;31mValueError\u001b[0m: shapes (98,98) and (10,3762) not aligned: 98 (dim 1) != 10 (dim 0)"
     ]
    }
   ],
   "source": [
    "np.dot(D,v)"
   ]
  },
  {
   "cell_type": "code",
   "execution_count": 79,
   "metadata": {
    "collapsed": false
   },
   "outputs": [
    {
     "data": {
      "text/plain": [
       "(98, 10)"
      ]
     },
     "execution_count": 79,
     "metadata": {},
     "output_type": "execute_result"
    }
   ],
   "source": [
    "u.shape"
   ]
  },
  {
   "cell_type": "code",
   "execution_count": 82,
   "metadata": {
    "collapsed": false
   },
   "outputs": [
    {
     "data": {
      "text/plain": [
       "(98, 3762)"
      ]
     },
     "execution_count": 82,
     "metadata": {},
     "output_type": "execute_result"
    }
   ],
   "source": [
    "np.dot(u,v).shape"
   ]
  },
  {
   "cell_type": "code",
   "execution_count": null,
   "metadata": {
    "collapsed": true
   },
   "outputs": [],
   "source": []
  }
 ],
 "metadata": {
  "kernelspec": {
   "display_name": "Python 2",
   "language": "python",
   "name": "python2"
  },
  "language_info": {
   "codemirror_mode": {
    "name": "ipython",
    "version": 2
   },
   "file_extension": ".py",
   "mimetype": "text/x-python",
   "name": "python",
   "nbconvert_exporter": "python",
   "pygments_lexer": "ipython2",
   "version": "2.7.10"
  }
 },
 "nbformat": 4,
 "nbformat_minor": 0
}
